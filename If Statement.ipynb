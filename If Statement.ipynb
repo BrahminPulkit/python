{
 "cells": [
  {
   "cell_type": "code",
   "execution_count": 1,
   "id": "023e5260-215d-4708-97a2-7813ffc205d8",
   "metadata": {},
   "outputs": [],
   "source": [
    "def hint_username(username):\n",
    "    if len(username) < 3:\n",
    "        print(\"Invalid user name . Must be at least 3 characters long\")\n",
    "        \n",
    "        \n",
    "    # the body of the if block will only execute when the condition evaluates to true: otherwise it's skipped"
   ]
  },
  {
   "cell_type": "code",
   "execution_count": 6,
   "id": "c0270dea-acd2-4e12-950f-8b1656f9a702",
   "metadata": {},
   "outputs": [
    {
     "name": "stdout",
     "output_type": "stream",
     "text": [
      "Invalid user name . Must be at least 3 characters long\n"
     ]
    }
   ],
   "source": [
    "hint_username(\"Ra\")"
   ]
  },
  {
   "cell_type": "code",
   "execution_count": null,
   "id": "e321d594-c4f7-44c9-9514-348ebf6cc5d2",
   "metadata": {},
   "outputs": [],
   "source": []
  }
 ],
 "metadata": {
  "kernelspec": {
   "display_name": "Python 3.9.12 ('base')",
   "language": "python",
   "name": "python3"
  },
  "language_info": {
   "codemirror_mode": {
    "name": "ipython",
    "version": 3
   },
   "file_extension": ".py",
   "mimetype": "text/x-python",
   "name": "python",
   "nbconvert_exporter": "python",
   "pygments_lexer": "ipython3",
   "version": "3.9.12"
  },
  "vscode": {
   "interpreter": {
    "hash": "eb1553ab1c3584289d12ef0e9ef38d117fc2073501c5fc5275d71a1c9b27bfbe"
   }
  }
 },
 "nbformat": 4,
 "nbformat_minor": 5
}
