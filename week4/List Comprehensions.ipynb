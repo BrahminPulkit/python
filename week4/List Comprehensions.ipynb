{
 "cells": [
  {
   "cell_type": "code",
   "execution_count": 2,
   "id": "ace3ecac-7c43-46ba-9cc3-5af43047f280",
   "metadata": {},
   "outputs": [
    {
     "name": "stdout",
     "output_type": "stream",
     "text": [
      "[7, 14, 21, 28, 35, 42, 49, 56, 63, 70]\n"
     ]
    }
   ],
   "source": [
    "multiples = []\n",
    "for x in range(1, 11):\n",
    "    multiples.append(x*7)\n",
    "print(multiples)"
   ]
  },
  {
   "cell_type": "code",
   "execution_count": 4,
   "id": "f35fa58b-5e64-49ca-a6d6-d2404c618605",
   "metadata": {},
   "outputs": [
    {
     "name": "stdout",
     "output_type": "stream",
     "text": [
      "[7, 14, 21, 28, 35, 42, 49, 56, 63, 70]\n"
     ]
    }
   ],
   "source": [
    "multiples = [x*7 for x in range(1, 11)]\n",
    "print(multiples)"
   ]
  },
  {
   "cell_type": "code",
   "execution_count": 5,
   "id": "265ede77-ce3a-4f2f-9199-e08c31756e04",
   "metadata": {},
   "outputs": [],
   "source": [
    "# List Comprehensions = Let create new list based on seuences of ranges\n"
   ]
  },
  {
   "cell_type": "code",
   "execution_count": 7,
   "id": "cac04804-16e4-4a65-ae03-c6c37867d6c7",
   "metadata": {},
   "outputs": [
    {
     "name": "stdout",
     "output_type": "stream",
     "text": [
      "[6, 4, 4, 2, 1]\n"
     ]
    }
   ],
   "source": [
    "languages = [\"Python\", \"Java\" , \"Html\" , \"Go\", \"C\"]\n",
    "lengths = [len(language)for language in languages]\n",
    "print(lengths)"
   ]
  },
  {
   "cell_type": "code",
   "execution_count": 11,
   "id": "c2c213a5-ada2-40f1-8449-17542f768c0a",
   "metadata": {},
   "outputs": [
    {
     "name": "stdout",
     "output_type": "stream",
     "text": [
      "[0, 3, 6, 9]\n"
     ]
    }
   ],
   "source": [
    "z = [x for x in range(0, 10) if x % 3 == 0]\n",
    "print(z)"
   ]
  },
  {
   "cell_type": "code",
   "execution_count": null,
   "id": "f74f3b8b-a4a2-4839-9d92-f01762e3fd0f",
   "metadata": {},
   "outputs": [],
   "source": []
  }
 ],
 "metadata": {
  "kernelspec": {
   "display_name": "Python 3 (ipykernel)",
   "language": "python",
   "name": "python3"
  },
  "language_info": {
   "codemirror_mode": {
    "name": "ipython",
    "version": 3
   },
   "file_extension": ".py",
   "mimetype": "text/x-python",
   "name": "python",
   "nbconvert_exporter": "python",
   "pygments_lexer": "ipython3",
   "version": "3.9.12"
  }
 },
 "nbformat": 4,
 "nbformat_minor": 5
}
