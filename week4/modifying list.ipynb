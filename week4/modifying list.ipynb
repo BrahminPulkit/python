{
 "cells": [
  {
   "cell_type": "code",
   "execution_count": 3,
   "id": "dc50d51e-3558-4aab-aa47-f69ff39c3162",
   "metadata": {},
   "outputs": [
    {
     "name": "stdout",
     "output_type": "stream",
     "text": [
      "['pinapple', 'Banana', 'melon', 'kiwi']\n"
     ]
    }
   ],
   "source": [
    "fruits = [\"pinapple\", \"Banana\", \"melon\"]\n",
    "fruits.append(\"kiwi\")\n",
    "print(fruits)\n",
    "\n",
    "#append() method add a new element in the list"
   ]
  },
  {
   "cell_type": "code",
   "execution_count": 5,
   "id": "330672fd-dfcb-4b4d-916b-c0b7798f2d7e",
   "metadata": {},
   "outputs": [
    {
     "name": "stdout",
     "output_type": "stream",
     "text": [
      "['orange', 'pinapple', 'Banana', 'melon']\n"
     ]
    }
   ],
   "source": [
    "fruits = [\"pinapple\", \"Banana\", \"melon\"]\n",
    "fruits.insert(0, \"orange\")\n",
    "print(fruits)"
   ]
  },
  {
   "cell_type": "code",
   "execution_count": 8,
   "id": "ccdfa137-02a0-435b-bbc5-5a0c8747b872",
   "metadata": {},
   "outputs": [
    {
     "name": "stdout",
     "output_type": "stream",
     "text": [
      "['pinapple', 'Banana', 'melon', 'Apple!']\n"
     ]
    }
   ],
   "source": [
    "fruits = [\"pinapple\", \"Banana\", \"melon\"]\n",
    "fruits.insert(25,  \"Apple!\")\n",
    "print(fruits)"
   ]
  },
  {
   "cell_type": "code",
   "execution_count": 13,
   "id": "2440d9df-b59e-4a94-98f2-4b33e3e0dfe4",
   "metadata": {},
   "outputs": [
    {
     "name": "stdout",
     "output_type": "stream",
     "text": [
      "['pinapple', 'Banana', 'melon']\n"
     ]
    }
   ],
   "source": [
    "fruits = [\"pinapple\", \"Banana\", \"melon\", \"kiwi!\"]\n",
    "fruits.remove(\"kiwi!\")\n",
    "print(fruits)"
   ]
  },
  {
   "cell_type": "code",
   "execution_count": 15,
   "id": "6c5b4c86-dfeb-4db2-9a24-6a9f45fd2e09",
   "metadata": {},
   "outputs": [
    {
     "ename": "ValueError",
     "evalue": "list.remove(x): x not in list",
     "output_type": "error",
     "traceback": [
      "\u001b[1;31m---------------------------------------------------------------------------\u001b[0m",
      "\u001b[1;31mValueError\u001b[0m                                Traceback (most recent call last)",
      "Input \u001b[1;32mIn [15]\u001b[0m, in \u001b[0;36m<cell line: 2>\u001b[1;34m()\u001b[0m\n\u001b[0;32m      1\u001b[0m fruits \u001b[38;5;241m=\u001b[39m [\u001b[38;5;124m\"\u001b[39m\u001b[38;5;124mpinapple\u001b[39m\u001b[38;5;124m\"\u001b[39m, \u001b[38;5;124m\"\u001b[39m\u001b[38;5;124mBanana\u001b[39m\u001b[38;5;124m\"\u001b[39m, \u001b[38;5;124m\"\u001b[39m\u001b[38;5;124mmelon\u001b[39m\u001b[38;5;124m\"\u001b[39m, \u001b[38;5;124m\"\u001b[39m\u001b[38;5;124mkiwi!\u001b[39m\u001b[38;5;124m\"\u001b[39m]\n\u001b[1;32m----> 2\u001b[0m \u001b[43mfruits\u001b[49m\u001b[38;5;241;43m.\u001b[39;49m\u001b[43mremove\u001b[49m\u001b[43m(\u001b[49m\u001b[38;5;124;43m\"\u001b[39;49m\u001b[38;5;124;43mPear\u001b[39;49m\u001b[38;5;124;43m\"\u001b[39;49m\u001b[43m)\u001b[49m\n",
      "\u001b[1;31mValueError\u001b[0m: list.remove(x): x not in list"
     ]
    }
   ],
   "source": [
    "fruits = [\"pinapple\", \"Banana\", \"melon\", \"kiwi!\"]\n",
    "fruits.remove(\"Pear\")"
   ]
  },
  {
   "cell_type": "code",
   "execution_count": 17,
   "id": "ac7885fe-d072-461f-a6ce-e073f1151ebf",
   "metadata": {},
   "outputs": [
    {
     "name": "stdout",
     "output_type": "stream",
     "text": [
      "['pinapple', 'Banana', 'melon']\n"
     ]
    }
   ],
   "source": [
    "fruits = [\"pinapple\", \"Banana\", \"melon\", \"kiwi!\"]\n",
    "fruits.pop(3)\n",
    "print(fruits)"
   ]
  },
  {
   "cell_type": "code",
   "execution_count": 18,
   "id": "62738796-3339-4041-8500-08158109f955",
   "metadata": {},
   "outputs": [
    {
     "name": "stdout",
     "output_type": "stream",
     "text": [
      "['pinapple', 'Banana', 'strawberry', 'kiwi!']\n"
     ]
    }
   ],
   "source": [
    "fruits = [\"pinapple\", \"Banana\", \"melon\", \"kiwi!\"]\n",
    "fruits[2] = \"strawberry\"\n",
    "print(fruits)"
   ]
  },
  {
   "cell_type": "code",
   "execution_count": null,
   "id": "d05ebfd4-3df5-4465-a0c4-d33f4e064c0c",
   "metadata": {},
   "outputs": [],
   "source": []
  }
 ],
 "metadata": {
  "kernelspec": {
   "display_name": "Python 3 (ipykernel)",
   "language": "python",
   "name": "python3"
  },
  "language_info": {
   "codemirror_mode": {
    "name": "ipython",
    "version": 3
   },
   "file_extension": ".py",
   "mimetype": "text/x-python",
   "name": "python",
   "nbconvert_exporter": "python",
   "pygments_lexer": "ipython3",
   "version": "3.9.12"
  }
 },
 "nbformat": 4,
 "nbformat_minor": 5
}
