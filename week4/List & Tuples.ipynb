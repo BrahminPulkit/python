{
 "cells": [
  {
   "cell_type": "code",
   "execution_count": 1,
   "id": "e60d9e0d-0630-47c5-a5cf-ab7133a2d3b6",
   "metadata": {},
   "outputs": [],
   "source": [
    "# Tuples are sequences of elements of any type, that are immutale"
   ]
  },
  {
   "cell_type": "code",
   "execution_count": 2,
   "id": "377eaaf9-9cdc-4a0d-bb1b-8b9560be7ace",
   "metadata": {},
   "outputs": [
    {
     "name": "stdout",
     "output_type": "stream",
     "text": [
      "{'Pulkit', 'Sharma'}\n"
     ]
    }
   ],
   "source": [
    "fullname = {\"Pulkit\", \"Sharma\"}\n",
    "print(fullname)"
   ]
  },
  {
   "cell_type": "code",
   "execution_count": 24,
   "id": "cb2b5b5a-40ef-4444-badd-a2f4a3cf370e",
   "metadata": {},
   "outputs": [],
   "source": [
    "def convert_seconds(seconds):\n",
    "    hours = seconds // 3600\n",
    "    minutes  = (seconds - hours * 3600) // 60\n",
    "    remaining_seconds = seconds - hours * 3600 - minutes * 60\n",
    "    return hours, minutes,remaining_seconds "
   ]
  },
  {
   "cell_type": "code",
   "execution_count": 25,
   "id": "e3d9f74d-5d7c-4709-9d0a-0be5c18a5dc9",
   "metadata": {},
   "outputs": [
    {
     "data": {
      "text/plain": [
       "tuple"
      ]
     },
     "execution_count": 25,
     "metadata": {},
     "output_type": "execute_result"
    }
   ],
   "source": [
    "result = convert_seconds(500)\n",
    "type(result)"
   ]
  },
  {
   "cell_type": "code",
   "execution_count": 28,
   "id": "eb1363d3-fcb8-4133-8706-1d19161bfef0",
   "metadata": {},
   "outputs": [
    {
     "name": "stdout",
     "output_type": "stream",
     "text": [
      "(0, 8, 20)\n"
     ]
    }
   ],
   "source": [
    "result = convert_seconds(500)\n",
    "print(result)"
   ]
  },
  {
   "cell_type": "code",
   "execution_count": 21,
   "id": "7d741e3c-d07d-4bd9-bdfe-fdef08f58db6",
   "metadata": {},
   "outputs": [
    {
     "name": "stdout",
     "output_type": "stream",
     "text": [
      "0 8 20\n"
     ]
    }
   ],
   "source": [
    "hours, minutes,remaining_seconds = result\n",
    "print(hours, minutes,remaining_seconds)"
   ]
  },
  {
   "cell_type": "code",
   "execution_count": 30,
   "id": "14b8a5ff-971c-47f4-8ba0-aff1938ac146",
   "metadata": {},
   "outputs": [
    {
     "name": "stdout",
     "output_type": "stream",
     "text": [
      "0 8 20\n"
     ]
    }
   ],
   "source": [
    "hours, minutes,remaining_seconds = convert_seconds(500)\n",
    "print(hours, minutes,remaining_seconds)"
   ]
  },
  {
   "cell_type": "code",
   "execution_count": 2,
   "id": "a344e48a-19da-412b-91aa-1c6c47b901a7",
   "metadata": {},
   "outputs": [
    {
     "name": "stdout",
     "output_type": "stream",
     "text": [
      "Total characters: 22, Average length: 5.5\n"
     ]
    }
   ],
   "source": [
    "animals = [\"Lion\", \"Zebra\", \"Dolphin\", \"Monkey\"]\n",
    "chars = 0\n",
    "for animal in animals:\n",
    "    chars += len(animal)\n",
    "    \n",
    "print(\"Total characters: {}, Average length: {}\".format(chars, chars/len(animals)))"
   ]
  },
  {
   "cell_type": "code",
   "execution_count": 5,
   "id": "3aee5f94-a780-46bb-a791-ba673c6d8c05",
   "metadata": {},
   "outputs": [
    {
     "name": "stdout",
     "output_type": "stream",
     "text": [
      "1 - Asley\n",
      "2 - Dylan\n",
      "3 - Reesw\n"
     ]
    }
   ],
   "source": [
    "winners = [\"Asley\", \"Dylan\", \"Reesw\"]\n",
    "for index, person in enumerate(winners):\n",
    "    print(\"{} - {}\".format(index + 1, person))"
   ]
  },
  {
   "cell_type": "code",
   "execution_count": 15,
   "id": "43189732-4a8e-4482-b533-25f9a4e8aeef",
   "metadata": {},
   "outputs": [
    {
     "name": "stdout",
     "output_type": "stream",
     "text": [
      "['Alex Diego <alex@example.com>']\n"
     ]
    }
   ],
   "source": [
    "def full_emails(people):\n",
    "    result = []\n",
    "    for email, name in people:\n",
    "        result.append(\"{} <{}>\".format(name, email))\n",
    "        return result\n",
    "print(full_emails([(\"alex@example.com\", \"Alex Diego\"), (\"Shay@gmail.com\", \"Shay Brandit\")]))"
   ]
  },
  {
   "cell_type": "code",
   "execution_count": null,
   "id": "7798d04b-f50d-4e95-bc2e-620222e21425",
   "metadata": {},
   "outputs": [],
   "source": [
    " "
   ]
  },
  {
   "cell_type": "code",
   "execution_count": null,
   "id": "7a456979-53d6-4e7f-aecf-00a31a2ad7e7",
   "metadata": {},
   "outputs": [],
   "source": []
  }
 ],
 "metadata": {
  "kernelspec": {
   "display_name": "Python 3 (ipykernel)",
   "language": "python",
   "name": "python3"
  },
  "language_info": {
   "codemirror_mode": {
    "name": "ipython",
    "version": 3
   },
   "file_extension": ".py",
   "mimetype": "text/x-python",
   "name": "python",
   "nbconvert_exporter": "python",
   "pygments_lexer": "ipython3",
   "version": "3.9.12"
  }
 },
 "nbformat": 4,
 "nbformat_minor": 5
}
