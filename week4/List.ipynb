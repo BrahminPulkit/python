{
 "cells": [
  {
   "cell_type": "code",
   "execution_count": 1,
   "id": "658f3738-fa97-42d6-8ac2-31017db26dea",
   "metadata": {},
   "outputs": [],
   "source": [
    "# List"
   ]
  },
  {
   "cell_type": "code",
   "execution_count": 3,
   "id": "56e90485-e0da-443b-9c01-d554a4421bde",
   "metadata": {},
   "outputs": [
    {
     "data": {
      "text/plain": [
       "list"
      ]
     },
     "execution_count": 3,
     "metadata": {},
     "output_type": "execute_result"
    }
   ],
   "source": [
    "x = [\"now\", \"we\", \"are\", \"coocking\"]\n",
    "type(x)"
   ]
  },
  {
   "cell_type": "code",
   "execution_count": 4,
   "id": "cdaee117-4874-46fe-a226-2dae9fd27a31",
   "metadata": {},
   "outputs": [
    {
     "name": "stdout",
     "output_type": "stream",
     "text": [
      "['now', 'we', 'are', 'coocking']\n"
     ]
    }
   ],
   "source": [
    "x = [\"now\", \"we\", \"are\", \"coocking\"]\n",
    "print(x)"
   ]
  },
  {
   "cell_type": "code",
   "execution_count": 5,
   "id": "4fe04392-2c68-45d3-aedf-b18cef3b907a",
   "metadata": {},
   "outputs": [
    {
     "data": {
      "text/plain": [
       "4"
      ]
     },
     "execution_count": 5,
     "metadata": {},
     "output_type": "execute_result"
    }
   ],
   "source": [
    "x = [\"now\", \"we\", \"are\", \"coocking\"]\n",
    "len(x)"
   ]
  },
  {
   "cell_type": "code",
   "execution_count": 6,
   "id": "4497dc12-5ec3-4e7e-a009-9a191a97b845",
   "metadata": {},
   "outputs": [
    {
     "data": {
      "text/plain": [
       "True"
      ]
     },
     "execution_count": 6,
     "metadata": {},
     "output_type": "execute_result"
    }
   ],
   "source": [
    "x = [\"now\", \"we\", \"are\", \"coocking\"]\n",
    "\"are\" in x"
   ]
  },
  {
   "cell_type": "code",
   "execution_count": 10,
   "id": "396c7796-a07e-4149-8cb6-624b330ff760",
   "metadata": {},
   "outputs": [
    {
     "data": {
      "text/plain": [
       "False"
      ]
     },
     "execution_count": 10,
     "metadata": {},
     "output_type": "execute_result"
    }
   ],
   "source": [
    "x = [\"now\", \"we\", \"are\", \"coocking\"]\n",
    "\"today\" in x"
   ]
  },
  {
   "cell_type": "code",
   "execution_count": 11,
   "id": "3a7f9695-37fa-44f3-b762-3834a46382a7",
   "metadata": {},
   "outputs": [
    {
     "name": "stdout",
     "output_type": "stream",
     "text": [
      "now\n"
     ]
    }
   ],
   "source": [
    "#\"Indexing\"\n",
    "x = [\"now\", \"we\", \"are\", \"coocking\"]\n",
    "print(x[0])\n"
   ]
  },
  {
   "cell_type": "code",
   "execution_count": 12,
   "id": "943cfd62-b888-44a2-a634-1ad76124f7bb",
   "metadata": {},
   "outputs": [
    {
     "data": {
      "text/plain": [
       "['we', 'are']"
      ]
     },
     "execution_count": 12,
     "metadata": {},
     "output_type": "execute_result"
    }
   ],
   "source": [
    "x = [\"now\", \"we\", \"are\", \"coocking!\"]\n",
    "x[1:3]"
   ]
  },
  {
   "cell_type": "code",
   "execution_count": 15,
   "id": "5d97cb86-d4af-428a-b84a-23ddfacdedaa",
   "metadata": {},
   "outputs": [
    {
     "data": {
      "text/plain": [
       "['now', 'we']"
      ]
     },
     "execution_count": 15,
     "metadata": {},
     "output_type": "execute_result"
    }
   ],
   "source": [
    "x = [\"now\", \"we\", \"are\", \"coocking!\"]\n",
    "x[:2]\n"
   ]
  },
  {
   "cell_type": "code",
   "execution_count": 16,
   "id": "ebd942a8-64a3-44d4-bf73-420d7d4aa66d",
   "metadata": {},
   "outputs": [
    {
     "data": {
      "text/plain": [
       "['are', 'coocking!']"
      ]
     },
     "execution_count": 16,
     "metadata": {},
     "output_type": "execute_result"
    }
   ],
   "source": [
    "x = [\"now\", \"we\", \"are\", \"coocking!\"]\n",
    "x[2:]"
   ]
  },
  {
   "cell_type": "code",
   "execution_count": null,
   "id": "631a0681-d257-4017-8c7e-3ebac1c48d24",
   "metadata": {},
   "outputs": [],
   "source": []
  }
 ],
 "metadata": {
  "kernelspec": {
   "display_name": "Python 3 (ipykernel)",
   "language": "python",
   "name": "python3"
  },
  "language_info": {
   "codemirror_mode": {
    "name": "ipython",
    "version": 3
   },
   "file_extension": ".py",
   "mimetype": "text/x-python",
   "name": "python",
   "nbconvert_exporter": "python",
   "pygments_lexer": "ipython3",
   "version": "3.9.12"
  }
 },
 "nbformat": 4,
 "nbformat_minor": 5
}
