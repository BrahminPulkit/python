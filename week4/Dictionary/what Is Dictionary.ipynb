{
 "cells": [
  {
   "cell_type": "code",
   "execution_count": 1,
   "id": "b18320f7-29aa-49a4-a34c-a545432d8cac",
   "metadata": {},
   "outputs": [
    {
     "data": {
      "text/plain": [
       "dict"
      ]
     },
     "execution_count": 1,
     "metadata": {},
     "output_type": "execute_result"
    }
   ],
   "source": [
    "x = {}\n",
    "type(x)"
   ]
  },
  {
   "cell_type": "code",
   "execution_count": 3,
   "id": "47054c54-8ef5-44e1-9ee7-c3b0925b59e0",
   "metadata": {},
   "outputs": [
    {
     "name": "stdout",
     "output_type": "stream",
     "text": [
      "{'jpg': 10, 'text': 14, 'csv': 2, 'py': 23}\n"
     ]
    }
   ],
   "source": [
    "file_count = {\"jpg\":10, \"text\":14, \"csv\":2, \"py\":23}\n",
    "print(file_count)"
   ]
  },
  {
   "cell_type": "code",
   "execution_count": 11,
   "id": "5021f74e-de06-4706-9dc1-a10d1408f2eb",
   "metadata": {},
   "outputs": [
    {
     "data": {
      "text/plain": [
       "14"
      ]
     },
     "execution_count": 11,
     "metadata": {},
     "output_type": "execute_result"
    }
   ],
   "source": [
    "file_count = {\"jpg\":10, \"txt\":14, \"csv\":2, \"py\":23}\n",
    "file_count[\"txt\"]"
   ]
  },
  {
   "cell_type": "code",
   "execution_count": 13,
   "id": "a711c88d-75a1-4f66-afea-263b04b59edc",
   "metadata": {},
   "outputs": [
    {
     "data": {
      "text/plain": [
       "True"
      ]
     },
     "execution_count": 13,
     "metadata": {},
     "output_type": "execute_result"
    }
   ],
   "source": [
    "file_count = {\"jpg\":10, \"text\":14, \"csv\":2, \"py\":23}\n",
    "\"jpg\" in file_count  "
   ]
  },
  {
   "cell_type": "code",
   "execution_count": 17,
   "id": "ee2f960f-bbeb-46ea-a880-50fd870dace7",
   "metadata": {},
   "outputs": [
    {
     "name": "stdout",
     "output_type": "stream",
     "text": [
      "{'jpg': 10, 'text': 14, 'csv': 2, 'py': 23, 'Rubby': 8}\n"
     ]
    }
   ],
   "source": [
    "file_count = {\"jpg\":10, \"text\":14, \"csv\":2, \"py\":23}\n",
    "file_count[\"Rubby\"] = 8\n",
    "print(file_count)"
   ]
  },
  {
   "cell_type": "code",
   "execution_count": 18,
   "id": "0aaa2c6c-8f65-41b4-bfd0-924008a533bb",
   "metadata": {},
   "outputs": [
    {
     "name": "stdout",
     "output_type": "stream",
     "text": [
      "{'jpg': 10, 'text': 14, 'csv': 2, 'py': 23}\n"
     ]
    }
   ],
   "source": [
    "ile_count = {\"jpg\":10, \"text\":14, \"csv\":2, \"py\":23 , \"Rubby\":8}\n",
    "del file_count[\"Rubby\"]\n",
    "print(file_count)"
   ]
  },
  {
   "cell_type": "code",
   "execution_count": null,
   "id": "06eddec5-8665-4565-ac3c-9c9ca3904e7f",
   "metadata": {},
   "outputs": [],
   "source": []
  }
 ],
 "metadata": {
  "kernelspec": {
   "display_name": "Python 3 (ipykernel)",
   "language": "python",
   "name": "python3"
  },
  "language_info": {
   "codemirror_mode": {
    "name": "ipython",
    "version": 3
   },
   "file_extension": ".py",
   "mimetype": "text/x-python",
   "name": "python",
   "nbconvert_exporter": "python",
   "pygments_lexer": "ipython3",
   "version": "3.9.12"
  }
 },
 "nbformat": 4,
 "nbformat_minor": 5
}
