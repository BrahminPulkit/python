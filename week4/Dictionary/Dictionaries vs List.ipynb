{
 "cells": [
  {
   "cell_type": "code",
   "execution_count": 2,
   "id": "a07fca9c-5ab2-4e45-8740-473ed2be81e4",
   "metadata": {},
   "outputs": [],
   "source": [
    "ip_addrerss = [\"192.168.1.1\", \"127.0.0.1\", \"8.8.8.8\"]\n",
    "host_address = {\"routers\": \"127.0.0.1\", \"locolhost\":\"127.0.0.1\", \"google\": \"8.8.8.8\"}\n",
    "\n",
    "#  you want to use dictionaries when you plan on searching for a specfic element.\n",
    "# in list you ca  store any data type .\n",
    "# in dictionaries we can store any data type for values but the key are restricted to specific types.\n",
    "# \"Set\" = used when you want to store a bunch of elements and be certain that;re only present once"
   ]
  },
  {
   "cell_type": "code",
   "execution_count": null,
   "id": "f1536f2d-659d-450e-bc6f-849bdc198b4a",
   "metadata": {},
   "outputs": [],
   "source": []
  }
 ],
 "metadata": {
  "kernelspec": {
   "display_name": "Python 3 (ipykernel)",
   "language": "python",
   "name": "python3"
  },
  "language_info": {
   "codemirror_mode": {
    "name": "ipython",
    "version": 3
   },
   "file_extension": ".py",
   "mimetype": "text/x-python",
   "name": "python",
   "nbconvert_exporter": "python",
   "pygments_lexer": "ipython3",
   "version": "3.9.12"
  }
 },
 "nbformat": 4,
 "nbformat_minor": 5
}
