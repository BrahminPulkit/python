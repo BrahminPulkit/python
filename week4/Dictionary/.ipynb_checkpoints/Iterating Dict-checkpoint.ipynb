{
 "cells": [
  {
   "cell_type": "code",
   "execution_count": 1,
   "id": "9c992c57-d840-4d2f-8d52-00d60fe6949c",
   "metadata": {},
   "outputs": [
    {
     "name": "stdout",
     "output_type": "stream",
     "text": [
      "jpg\n",
      "text\n",
      "csv\n",
      "py\n"
     ]
    }
   ],
   "source": [
    "file_count = {\"jpg\":10, \"text\":14, \"csv\":2, \"py\":23}\n",
    "for extension in file_count:\n",
    "    print(extension)"
   ]
  },
  {
   "cell_type": "code",
   "execution_count": 3,
   "id": "5085c4c5-b5c3-493c-b7a5-d932d7d4446d",
   "metadata": {},
   "outputs": [
    {
     "name": "stdout",
     "output_type": "stream",
     "text": [
      "There are 10 files with the .jpg extension\n",
      "There are 14 files with the .text extension\n",
      "There are 2 files with the .csv extension\n",
      "There are 23 files with the .py extension\n"
     ]
    }
   ],
   "source": [
    "file_count = {\"jpg\":10, \"text\":14, \"csv\":2, \"py\":23}\n",
    "for ext, amount in file_count.items():\n",
    "    print(\"There are {} files with the .{} extension\".format(amount, ext))\n",
    "    "
   ]
  },
  {
   "cell_type": "code",
   "execution_count": 21,
   "id": "1761091d-464d-40eb-a117-77ea0a5023c7",
   "metadata": {},
   "outputs": [
    {
     "ename": "IndentationError",
     "evalue": "unexpected indent (2535504121.py, line 5)",
     "output_type": "error",
     "traceback": [
      "\u001b[1;36m  Input \u001b[1;32mIn [21]\u001b[1;36m\u001b[0m\n\u001b[1;33m    file_counts.values()\u001b[0m\n\u001b[1;37m    ^\u001b[0m\n\u001b[1;31mIndentationError\u001b[0m\u001b[1;31m:\u001b[0m unexpected indent\n"
     ]
    }
   ],
   "source": [
    "file_counts = {\"jpg\":10, \"txt\":14, \"csv\":2, \"py\":23}\n",
    "for ext, amount in file_count.items():\n",
    "    file_count.keys()\n",
    "dict_keys(['jpg', 'txt', 'csv', 'py'])\n",
    "    file_counts.values()\n",
    "dict_values(10, 14, 2, 23)\n",
    "    for value in file_counts.values():\n",
    "        print(value)"
   ]
  },
  {
   "cell_type": "code",
   "execution_count": null,
   "id": "d836342a-b10e-4823-ad66-562e0b0502dd",
   "metadata": {},
   "outputs": [],
   "source": []
  }
 ],
 "metadata": {
  "kernelspec": {
   "display_name": "Python 3 (ipykernel)",
   "language": "python",
   "name": "python3"
  },
  "language_info": {
   "codemirror_mode": {
    "name": "ipython",
    "version": 3
   },
   "file_extension": ".py",
   "mimetype": "text/x-python",
   "name": "python",
   "nbconvert_exporter": "python",
   "pygments_lexer": "ipython3",
   "version": "3.9.12"
  }
 },
 "nbformat": 4,
 "nbformat_minor": 5
}
