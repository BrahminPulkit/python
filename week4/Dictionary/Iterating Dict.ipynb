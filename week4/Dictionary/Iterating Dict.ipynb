{
 "cells": [
  {
   "cell_type": "code",
   "execution_count": 1,
   "id": "9c992c57-d840-4d2f-8d52-00d60fe6949c",
   "metadata": {},
   "outputs": [
    {
     "name": "stdout",
     "output_type": "stream",
     "text": [
      "jpg\n",
      "text\n",
      "csv\n",
      "py\n"
     ]
    }
   ],
   "source": [
    "file_count = {\"jpg\":10, \"text\":14, \"csv\":2, \"py\":23}\n",
    "for extension in file_count:\n",
    "    print(extension)"
   ]
  },
  {
   "cell_type": "code",
   "execution_count": 30,
   "id": "5085c4c5-b5c3-493c-b7a5-d932d7d4446d",
   "metadata": {},
   "outputs": [
    {
     "name": "stdout",
     "output_type": "stream",
     "text": [
      "There are 10 files with the .jpg extension\n",
      "There are 14 files with the .text extension\n",
      "There are 2 files with the .csv extension\n",
      "There are 23 files with the .py extension\n"
     ]
    }
   ],
   "source": [
    "file_count = {\"jpg\":10, \"text\":14, \"csv\":2, \"py\":23}\n",
    "for ext, amount in file_count.items():\n",
    "    print(\"There are {} files with the .{} extension\".format(amount, ext))\n",
    "    "
   ]
  },
  {
   "cell_type": "code",
   "execution_count": 46,
   "id": "5d1c3b55-0d4d-48c3-8c16-c24c4e21490e",
   "metadata": {},
   "outputs": [
    {
     "name": "stdout",
     "output_type": "stream",
     "text": [
      "10\n",
      "14\n",
      "2\n",
      "23\n"
     ]
    }
   ],
   "source": [
    "file_counts = {\"jpg\":10, \"txt\":14, \"csv\":2, \"py\":23}\n",
    "for ext, amount in file_counts.items():\n",
    "    file_counts.keys()\n",
    "dict_keys = (['jpg', 'txt', 'cvc', 'py'])\n",
    "file_counts.values\n",
    "dict_values = ([10, 14, 2, 23])\n",
    "for value in file_counts.values():\n",
    "    print(value)"
   ]
  },
  {
   "cell_type": "code",
   "execution_count": 52,
   "id": "2b223c50-9614-4bcb-b4b6-dcd25930c713",
   "metadata": {},
   "outputs": [],
   "source": [
    "def count_letters(text):\n",
    "    result = {}\n",
    "    for letter in text:\n",
    "        if letter not in result:\n",
    "            result[letter] = 0\n",
    "        result[letter] += 1\n",
    "    return result"
   ]
  },
  {
   "cell_type": "code",
   "execution_count": 53,
   "id": "346cfee9-7adf-46b1-a29e-be1fdc01dd23",
   "metadata": {},
   "outputs": [
    {
     "data": {
      "text/plain": [
       "{'a': 5}"
      ]
     },
     "execution_count": 53,
     "metadata": {},
     "output_type": "execute_result"
    }
   ],
   "source": [
    "count_letters(\"aaaaa\")"
   ]
  },
  {
   "cell_type": "code",
   "execution_count": 54,
   "id": "f7c7c11e-d831-47b1-9552-74255a06b6c5",
   "metadata": {},
   "outputs": [
    {
     "data": {
      "text/plain": [
       "{'t': 2, 'e': 1, 'n': 2, 'a': 1}"
      ]
     },
     "execution_count": 54,
     "metadata": {},
     "output_type": "execute_result"
    }
   ],
   "source": [
    "count_letters(\"tenant\")"
   ]
  },
  {
   "cell_type": "code",
   "execution_count": 57,
   "id": "28b58a21-d050-4218-81af-a3543d7c3355",
   "metadata": {},
   "outputs": [
    {
     "data": {
      "text/plain": [
       "{'P': 1, 'u': 1, 'l': 6, 'k': 1, 'i': 1, 't': 1}"
      ]
     },
     "execution_count": 57,
     "metadata": {},
     "output_type": "execute_result"
    }
   ],
   "source": [
    "count_letters(\"Pullllllkit\")"
   ]
  },
  {
   "cell_type": "code",
   "execution_count": null,
   "id": "9e91beab-8ba5-4a1d-af17-6e6e26151b32",
   "metadata": {},
   "outputs": [],
   "source": []
  }
 ],
 "metadata": {
  "kernelspec": {
   "display_name": "Python 3 (ipykernel)",
   "language": "python",
   "name": "python3"
  },
  "language_info": {
   "codemirror_mode": {
    "name": "ipython",
    "version": 3
   },
   "file_extension": ".py",
   "mimetype": "text/x-python",
   "name": "python",
   "nbconvert_exporter": "python",
   "pygments_lexer": "ipython3",
   "version": "3.9.12"
  }
 },
 "nbformat": 4,
 "nbformat_minor": 5
}
