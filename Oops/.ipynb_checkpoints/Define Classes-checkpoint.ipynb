{
 "cells": [
  {
   "cell_type": "code",
   "execution_count": 1,
   "id": "b170dcdb-97c6-46cc-aa08-28e7a14dcfba",
   "metadata": {},
   "outputs": [],
   "source": [
    "class Apple:\n",
    "    pass"
   ]
  },
  {
   "cell_type": "code",
   "execution_count": 2,
   "id": "5c5176a7-9548-424f-9f73-06b379e41b34",
   "metadata": {},
   "outputs": [],
   "source": [
    "class Apple:\n",
    "    color = \"\"\n",
    "    flavor = \"\"\n",
    "    "
   ]
  },
  {
   "cell_type": "code",
   "execution_count": 3,
   "id": "fdc22b0f-8d34-4835-be42-e842f6cf0bfe",
   "metadata": {},
   "outputs": [
    {
     "name": "stdout",
     "output_type": "stream",
     "text": [
      "red sweet\n"
     ]
    }
   ],
   "source": [
    "jonogold = Apple()\n",
    "jonogold.color = \"red\"\n",
    "jonogold.flavor = \"sweet\"\n",
    "\n",
    "print(jonogold.color, jonogold.flavor)\n",
    "\n",
    "# Dot Notation - Lets you access any of the ability the object might have(method) or information it might store (called attributed)\n"
   ]
  },
  {
   "cell_type": "code",
   "execution_count": 4,
   "id": "a3dd8480-8bc4-4bd1-8f99-e80899c4ed84",
   "metadata": {},
   "outputs": [
    {
     "name": "stdout",
     "output_type": "stream",
     "text": [
      "RED\n"
     ]
    }
   ],
   "source": [
    "print(jonogold.color.upper())"
   ]
  },
  {
   "cell_type": "code",
   "execution_count": 6,
   "id": "f33e5a4f-b244-47a6-b4e7-72721a3b8b3e",
   "metadata": {},
   "outputs": [
    {
     "name": "stdout",
     "output_type": "stream",
     "text": [
      "yello\n"
     ]
    }
   ],
   "source": [
    "golden = Apple()\n",
    "golden.color = \"yello\"\n",
    "golden.flavour = \"Delicious\"\n",
    "print(golden.color)"
   ]
  },
  {
   "cell_type": "code",
   "execution_count": null,
   "id": "12733199-f254-4870-b069-1a761b220c6f",
   "metadata": {},
   "outputs": [],
   "source": []
  }
 ],
 "metadata": {
  "kernelspec": {
   "display_name": "Python 3 (ipykernel)",
   "language": "python",
   "name": "python3"
  },
  "language_info": {
   "codemirror_mode": {
    "name": "ipython",
    "version": 3
   },
   "file_extension": ".py",
   "mimetype": "text/x-python",
   "name": "python",
   "nbconvert_exporter": "python",
   "pygments_lexer": "ipython3",
   "version": "3.9.12"
  }
 },
 "nbformat": 4,
 "nbformat_minor": 5
}
