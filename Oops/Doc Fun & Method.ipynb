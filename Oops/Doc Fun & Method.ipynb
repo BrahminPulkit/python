{
 "cells": [
  {
   "cell_type": "code",
   "execution_count": 1,
   "id": "ebf20947-cd46-4f0f-a55c-03d3db57d826",
   "metadata": {},
   "outputs": [],
   "source": [
    "# Docstring = a breaf text that explains what something does"
   ]
  },
  {
   "cell_type": "code",
   "execution_count": 2,
   "id": "d3ead8b3-fe5b-45be-944f-5abcd2908f03",
   "metadata": {},
   "outputs": [],
   "source": [
    "def to_seconds(hours, minutes, seconds):\n",
    "    \"\"\"Return the amount of second in the given hours, minutes  and seconds\"\"\"\n",
    "    return hours*3600+minutes*60+seconds"
   ]
  },
  {
   "cell_type": "code",
   "execution_count": 3,
   "id": "f9ed053a-64f5-4467-8532-600eabb09a5e",
   "metadata": {},
   "outputs": [
    {
     "name": "stdout",
     "output_type": "stream",
     "text": [
      "Help on function to_seconds in module __main__:\n",
      "\n",
      "to_seconds(hours, minutes, seconds)\n",
      "    Return the amount of second in the given hours, minutes  and seconds\n",
      "\n"
     ]
    }
   ],
   "source": [
    "help(to_seconds)"
   ]
  },
  {
   "cell_type": "code",
   "execution_count": 13,
   "id": "ca86c939-357c-49fe-9f35-96fecba527c3",
   "metadata": {},
   "outputs": [],
   "source": [
    "class Piglet():\n",
    "    \"\"\"Represent a piglet that can say theif name.\"\"\"\n",
    "    years = 0\n",
    "    name  = \" \"\n",
    "    def speak(self):\n",
    "        \"\"\"Outputs a message including the name of the piglet\"\"\"\n",
    "        print(\"Oink! I'm {}! Oink!\".format(self.name))\n",
    "        \n",
    "    def pig_years(self):\n",
    "        \"\"\"Converts the current age to equivalent pig years\"\"\"\n",
    "        return self.years * 18"
   ]
  },
  {
   "cell_type": "code",
   "execution_count": 15,
   "id": "81d566c8-42b1-4fc5-9bc5-4aaa5932e510",
   "metadata": {},
   "outputs": [
    {
     "name": "stdout",
     "output_type": "stream",
     "text": [
      "Oink! I'm Hamlet! Oink!\n",
      "None\n"
     ]
    }
   ],
   "source": [
    "jonagold = Piglet()\n",
    "jonagold.name = \"Hamlet\"\n",
    "print(jonagold.speak())"
   ]
  },
  {
   "cell_type": "code",
   "execution_count": 18,
   "id": "86776731-c975-4ab0-a9a8-3589ed5f53d8",
   "metadata": {},
   "outputs": [
    {
     "name": "stdout",
     "output_type": "stream",
     "text": [
      "54\n"
     ]
    }
   ],
   "source": [
    "jonagold = Piglet()\n",
    "jonagold.years = 3\n",
    "print(jonagold.pig_years())"
   ]
  },
  {
   "cell_type": "code",
   "execution_count": 23,
   "id": "2391bd83-f4a8-4fc1-a638-41f646a8fea3",
   "metadata": {},
   "outputs": [],
   "source": [
    "class Elevator:\n",
    "    def __init__(self, bottom, top, current):\n",
    "        \"\"\"Initializes the Elevator instance.\"\"\"\n",
    "        self.bottom = 0\n",
    "        self.top = 0\n",
    "        self.current = 0\n",
    "        \n",
    "    def up(self):\n",
    "        \"\"\"Make the elevator go up the floor\"\"\"\n",
    "        pass\n",
    "    def down(self):\n",
    "        \"\"\"Make the elevetor go dawn one floor\"\"\"\n",
    "        pass\n",
    "    def go_to(self, floor):\n",
    "        \"\"\"Makes the elevator go to the specific floor\"\"\"\n",
    "        self.current = floor\n",
    "        \n",
    "elevator = Elevator(-1, 10, 0)"
   ]
  },
  {
   "cell_type": "code",
   "execution_count": 25,
   "id": "70bad078-6e48-4ce8-a443-8514a5f38cc7",
   "metadata": {},
   "outputs": [
    {
     "name": "stdout",
     "output_type": "stream",
     "text": [
      "10\n"
     ]
    }
   ],
   "source": [
    "elevator.go_to(10)\n",
    "elevator.up()\n",
    "elevator.down()\n",
    "print(elevator.current)"
   ]
  },
  {
   "cell_type": "code",
   "execution_count": null,
   "id": "eee6aad8-8f80-4619-af4c-d4e58536c39b",
   "metadata": {},
   "outputs": [],
   "source": []
  }
 ],
 "metadata": {
  "kernelspec": {
   "display_name": "Python 3 (ipykernel)",
   "language": "python",
   "name": "python3"
  },
  "language_info": {
   "codemirror_mode": {
    "name": "ipython",
    "version": 3
   },
   "file_extension": ".py",
   "mimetype": "text/x-python",
   "name": "python",
   "nbconvert_exporter": "python",
   "pygments_lexer": "ipython3",
   "version": "3.9.12"
  }
 },
 "nbformat": 4,
 "nbformat_minor": 5
}
