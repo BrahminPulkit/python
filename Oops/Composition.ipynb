{
 "cells": [
  {
   "cell_type": "code",
   "execution_count": 1,
   "id": "851e4788-5a1c-4372-bc07-f7c7a71cc7f8",
   "metadata": {},
   "outputs": [],
   "source": [
    "class Repository:\n",
    "    def __init__(self):  # always initialize mutable attributes in the constrructor\n",
    "        self.package = {}\n",
    "        \n",
    "    def add_package(self, package):\n",
    "        self.packages[package.name] = package\n",
    "        \n",
    "    def total_size(self):\n",
    "        result = 0    \n",
    "        for package in self.package.values():\n",
    "            result += package.size\n",
    "        return result"
   ]
  },
  {
   "cell_type": "code",
   "execution_count": null,
   "id": "4caf1f4b-c941-42e0-b568-a88034289eb8",
   "metadata": {},
   "outputs": [],
   "source": []
  },
  {
   "cell_type": "code",
   "execution_count": 17,
   "id": "8833fef3-f19e-49f0-a86f-a37aadf06f05",
   "metadata": {},
   "outputs": [
    {
     "ename": "SyntaxError",
     "evalue": "invalid syntax (3414860690.py, line 16)",
     "output_type": "error",
     "traceback": [
      "\u001b[1;36m  Input \u001b[1;32mIn [17]\u001b[1;36m\u001b[0m\n\u001b[1;33m    count += Clothing.['amount'][n]\u001b[0m\n\u001b[1;37m                      ^\u001b[0m\n\u001b[1;31mSyntaxError\u001b[0m\u001b[1;31m:\u001b[0m invalid syntax\n"
     ]
    }
   ],
   "source": [
    "class Clothing:\n",
    "    stock = {'name': [], 'material' :[], 'amount' :[]}\n",
    "    def __init__(self, name):\n",
    "        material = \"\"\n",
    "        self.name = name\n",
    "    def add_iteam(self, name, materail, amount):\n",
    "        Clothing.stock['name'].append(self.name)\n",
    "        Clothing.stock['material'].append(self.material)\n",
    "        Clothing.stock['amount'].append(amount)\n",
    "        \n",
    "    def stock_by_Material(self, material):\n",
    "        count = 0\n",
    "        n = 0\n",
    "        for iteam in Clothing.stock['']:\n",
    "            if iteam == material:\n",
    "                count += Clothing.['amount'][n]\n",
    "                n += 1\n",
    "        return count\n",
    "    \n",
    "class shirt(Clothing):\n",
    "    material = \"Cotton\"\n",
    "class Pants(Clothing):\n",
    "    material = \"Coton\"\n",
    "    \n",
    "polo = shirt(\"Polo\")\n",
    "sweatpants = Pants(\"sweatpants\")\n",
    "polo.add_iteam(polo.name, polo.material, 4)\n",
    "sweatpants.add_iteam(sweatpants.name, sweatpants.material, 6)\n",
    "current_stock = polo.stock_by_Material(\"Cotton\")\n",
    "print(current_stock)"
   ]
  },
  {
   "cell_type": "code",
   "execution_count": null,
   "id": "c9e02f02-e045-4218-854f-670c495743cc",
   "metadata": {},
   "outputs": [],
   "source": []
  }
 ],
 "metadata": {
  "kernelspec": {
   "display_name": "Python 3 (ipykernel)",
   "language": "python",
   "name": "python3"
  },
  "language_info": {
   "codemirror_mode": {
    "name": "ipython",
    "version": 3
   },
   "file_extension": ".py",
   "mimetype": "text/x-python",
   "name": "python",
   "nbconvert_exporter": "python",
   "pygments_lexer": "ipython3",
   "version": "3.9.12"
  }
 },
 "nbformat": 4,
 "nbformat_minor": 5
}
