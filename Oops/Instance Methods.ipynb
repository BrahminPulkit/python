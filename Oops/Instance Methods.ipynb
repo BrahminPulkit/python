{
 "cells": [
  {
   "cell_type": "code",
   "execution_count": 9,
   "id": "9c160b1a-a9d8-4e69-91dc-83ab8d360936",
   "metadata": {},
   "outputs": [],
   "source": [
    "# methos = functions that operate on the attributes of a specific instance of a class\n",
    "# variable that have diffrent values for diffrent instances of the same class are called Instance variable"
   ]
  },
  {
   "cell_type": "code",
   "execution_count": 3,
   "id": "4f7160d9-6759-493d-8140-d9570b644b2b",
   "metadata": {},
   "outputs": [],
   "source": [
    "class piglet:\n",
    "    def speak(self):\n",
    "        print(\"oilk oink\")"
   ]
  },
  {
   "cell_type": "code",
   "execution_count": 4,
   "id": "52eb6e5a-56f3-4f38-be26-08958b43121b",
   "metadata": {},
   "outputs": [
    {
     "name": "stdout",
     "output_type": "stream",
     "text": [
      "oilk oink\n"
     ]
    }
   ],
   "source": [
    "hamlet = piglet()\n",
    "hamlet.speak()"
   ]
  },
  {
   "cell_type": "code",
   "execution_count": 8,
   "id": "471709a7-ff4a-4668-aa96-5ba0a1c733be",
   "metadata": {},
   "outputs": [],
   "source": [
    "class Piglet:\n",
    "    name = \"piglet\"  # variable\n",
    "    def speak(self):\n",
    "        print(\"oink! I am {}! oink!\".format(self.name))"
   ]
  },
  {
   "cell_type": "code",
   "execution_count": 6,
   "id": "8c074735-3d4e-46f9-864c-9a921e98a71d",
   "metadata": {},
   "outputs": [
    {
     "name": "stdout",
     "output_type": "stream",
     "text": [
      "oink! I am Hamlet! oink!\n"
     ]
    }
   ],
   "source": [
    "hamlet = Piglet()\n",
    "hamlet.name = \"Hamlet\"\n",
    "hamlet.speak()"
   ]
  },
  {
   "cell_type": "code",
   "execution_count": 7,
   "id": "12ec3447-5ace-4752-a848-fa057a59f582",
   "metadata": {},
   "outputs": [
    {
     "name": "stdout",
     "output_type": "stream",
     "text": [
      "oink! I am Pulkit! oink!\n"
     ]
    }
   ],
   "source": [
    "petunia = Piglet()\n",
    "petunia.name = \"Pulkit\"\n",
    "petunia.speak()"
   ]
  },
  {
   "cell_type": "code",
   "execution_count": 10,
   "id": "f865091e-4857-44a2-8446-3e6dec7d86e7",
   "metadata": {},
   "outputs": [],
   "source": [
    "class Piglet():\n",
    "    years = 0\n",
    "    def pig_years(self):\n",
    "        return self.years * 18"
   ]
  },
  {
   "cell_type": "code",
   "execution_count": 11,
   "id": "ee62e059-b1f0-4553-b886-e8b040663a8f",
   "metadata": {},
   "outputs": [
    {
     "name": "stdout",
     "output_type": "stream",
     "text": [
      "0\n"
     ]
    }
   ],
   "source": [
    "piggy = Piglet()\n",
    "print (piggy.pig_years())"
   ]
  },
  {
   "cell_type": "code",
   "execution_count": 12,
   "id": "34614233-6f86-41b7-9f49-776450ef40dc",
   "metadata": {},
   "outputs": [
    {
     "name": "stdout",
     "output_type": "stream",
     "text": [
      "36\n"
     ]
    }
   ],
   "source": [
    "piggy.years = 2\n",
    "print(piggy.pig_years())"
   ]
  },
  {
   "cell_type": "code",
   "execution_count": null,
   "id": "93dda6b0-d423-4a33-94dd-d00f3b7c15eb",
   "metadata": {},
   "outputs": [],
   "source": []
  }
 ],
 "metadata": {
  "kernelspec": {
   "display_name": "Python 3 (ipykernel)",
   "language": "python",
   "name": "python3"
  },
  "language_info": {
   "codemirror_mode": {
    "name": "ipython",
    "version": 3
   },
   "file_extension": ".py",
   "mimetype": "text/x-python",
   "name": "python",
   "nbconvert_exporter": "python",
   "pygments_lexer": "ipython3",
   "version": "3.9.12"
  }
 },
 "nbformat": 4,
 "nbformat_minor": 5
}
