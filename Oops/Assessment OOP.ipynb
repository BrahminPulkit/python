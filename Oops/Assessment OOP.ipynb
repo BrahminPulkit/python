{
 "cells": [
  {
   "cell_type": "code",
   "execution_count": 16,
   "id": "3482d094-12c8-4d43-9793-66b3a7a4eaa0",
   "metadata": {},
   "outputs": [],
   "source": [
    "#Being Portion  1#\n",
    "import random\n",
    "\n",
    "\n",
    "class Server:\n",
    "    def __init__(self):\n",
    "        \"\"\"Creates a new server instance, with no active conection\"\"\"\n",
    "        self.connection = {}\n",
    "        \n",
    "    def add_connection(self, connection_id):\n",
    "        \"\"\"Adds a new connection to this server.\"\"\"\n",
    "        # Add the conection from the dictionary with the calculated load\n",
    "        \n",
    "    def class_connection(self, connecton_id):\n",
    "        \"\"\"Close a connection  on the server\"\"\"\n",
    "        # remove the connection from the dictionary \n",
    "        \n",
    "    def load(self):\n",
    "        \"\"\"Calculate the current load for all connections.\"\"\"\n",
    "        total = 1\n",
    "        # Add up the load for each of the connections\n",
    "        return total\n",
    "    def __str__(self):\n",
    "        \"\"\"Return a string with the current load of the server\"\"\"\n",
    "        return \"{:.2f}%\".format(self.load())\n",
    "    \n",
    "#end Portion 1"
   ]
  },
  {
   "cell_type": "code",
   "execution_count": 17,
   "id": "455806d3-f966-4ecd-a1fd-40d1067006b1",
   "metadata": {},
   "outputs": [
    {
     "name": "stdout",
     "output_type": "stream",
     "text": [
      "1\n"
     ]
    }
   ],
   "source": [
    "server = Server()\n",
    "server.add_connection(\"192.168.1.1\")\n",
    "print(server.load())"
   ]
  },
  {
   "cell_type": "code",
   "execution_count": 8,
   "id": "92f961eb-6767-4cd2-bc19-50c692bdd3a0",
   "metadata": {},
   "outputs": [],
   "source": [
    "# Being portion 2 #\n",
    "class LoadBalancing():\n",
    "    def __init__(self):\n",
    "        \"\"\"Initialize the load balancing system with one server\"\"\"\n",
    "        self.conection = {}\n",
    "        self.servers = [Server()]\n",
    "    def add_connection(self, connection_id):\n",
    "        \"\"\"Rendomly selects a server and adds a connection to it.\"\"\"\n",
    "        #Add the connection to the dictionary with the selected server\n",
    "        #Add the connection on the server\n",
    "       \n",
    "    def close_connection(self, connection_id):\n",
    "        \"\"\"Closes the connection on the server coresponding to connection_Id\"\"\"\n",
    "        #find out the right server\n",
    "        #close the connection on the resver \n",
    "        # remove the connection from the load balancer\n",
    "        \n",
    "    def avg_load(self):\n",
    "        \"\"\"calculate the average load oa all servers\"\"\"\n",
    "        #sum the load of each server and devide by the amount of servers\n",
    "        return 0\n",
    "    def ensure_availability(self):\n",
    "        \"\"\"If the average load is heigherthan 50, spin up a new server\"\"\"\n",
    "        pass\n",
    "    def __str__(self):\n",
    "        \"\"\"Returns a string with the load for each server.\"\"\"\n",
    "        loads = [str(server) for server in self.servers]\n",
    "        return \"[{}]\".format(\",\".join(loads))\n",
    "#Portion 2#\n",
    "        "
   ]
  },
  {
   "cell_type": "code",
   "execution_count": 10,
   "id": "270dc477-af7f-4bdb-a9f0-15b5c801ce44",
   "metadata": {},
   "outputs": [
    {
     "name": "stdout",
     "output_type": "stream",
     "text": [
      "0\n"
     ]
    }
   ],
   "source": [
    "l = LoadBalancing()\n",
    "l.add_connection(\"fdca:83d2:f20d\")\n",
    "print(l.avg_load())"
   ]
  },
  {
   "cell_type": "code",
   "execution_count": 11,
   "id": "f306ad69-e488-4b14-9ef7-8661bd11050d",
   "metadata": {},
   "outputs": [
    {
     "name": "stdout",
     "output_type": "stream",
     "text": [
      "0\n"
     ]
    }
   ],
   "source": [
    "l.servers.append(Server())\n",
    "print(l.avg_load())"
   ]
  },
  {
   "cell_type": "code",
   "execution_count": 12,
   "id": "560a8b56-065c-4a4b-ae73-41f9f9e66b95",
   "metadata": {},
   "outputs": [
    {
     "name": "stdout",
     "output_type": "stream",
     "text": [
      "0\n"
     ]
    }
   ],
   "source": [
    "l.close_connection(\"fdca:83d2:f20d\")\n",
    "print(l.avg_load())"
   ]
  },
  {
   "cell_type": "code",
   "execution_count": 14,
   "id": "3b179139-0fb0-4143-9272-8abaad86254a",
   "metadata": {},
   "outputs": [
    {
     "name": "stdout",
     "output_type": "stream",
     "text": [
      "[0.00%,0.00%]\n",
      "[0.00%,0.00%]\n",
      "[0.00%,0.00%]\n",
      "[0.00%,0.00%]\n",
      "[0.00%,0.00%]\n",
      "[0.00%,0.00%]\n",
      "[0.00%,0.00%]\n",
      "[0.00%,0.00%]\n",
      "[0.00%,0.00%]\n",
      "[0.00%,0.00%]\n",
      "[0.00%,0.00%]\n",
      "[0.00%,0.00%]\n",
      "[0.00%,0.00%]\n",
      "[0.00%,0.00%]\n",
      "[0.00%,0.00%]\n",
      "[0.00%,0.00%]\n",
      "[0.00%,0.00%]\n",
      "[0.00%,0.00%]\n",
      "[0.00%,0.00%]\n",
      "[0.00%,0.00%]\n"
     ]
    }
   ],
   "source": [
    "for connection in range(20):\n",
    "    l.add_connection(connection)\n",
    "    print(l)"
   ]
  },
  {
   "cell_type": "code",
   "execution_count": 15,
   "id": "75daff57-7cf9-482f-8341-343c2509f9ca",
   "metadata": {},
   "outputs": [
    {
     "name": "stdout",
     "output_type": "stream",
     "text": [
      "0\n"
     ]
    }
   ],
   "source": [
    "print(l.avg_load())"
   ]
  },
  {
   "cell_type": "code",
   "execution_count": null,
   "id": "251f2ad2-93e2-4222-b6f1-fd77c85b296b",
   "metadata": {},
   "outputs": [],
   "source": []
  }
 ],
 "metadata": {
  "kernelspec": {
   "display_name": "Python 3 (ipykernel)",
   "language": "python",
   "name": "python3"
  },
  "language_info": {
   "codemirror_mode": {
    "name": "ipython",
    "version": 3
   },
   "file_extension": ".py",
   "mimetype": "text/x-python",
   "name": "python",
   "nbconvert_exporter": "python",
   "pygments_lexer": "ipython3",
   "version": "3.9.12"
  }
 },
 "nbformat": 4,
 "nbformat_minor": 5
}
