{
 "cells": [
  {
   "cell_type": "code",
   "execution_count": 1,
   "id": "b9bd3069-4383-476b-a3f8-2a24b5160dea",
   "metadata": {},
   "outputs": [],
   "source": [
    "# Python provides an Abstraction called a Module.\n",
    "# Modules - Used to organize function , classes and other data together in a structure way"
   ]
  },
  {
   "cell_type": "code",
   "execution_count": 2,
   "id": "c4275d93-e480-42a5-b5db-cdc2e8dce97d",
   "metadata": {},
   "outputs": [
    {
     "data": {
      "text/plain": [
       "7"
      ]
     },
     "execution_count": 2,
     "metadata": {},
     "output_type": "execute_result"
    }
   ],
   "source": [
    "import random\n",
    "random.randint(1, 10)"
   ]
  },
  {
   "cell_type": "code",
   "execution_count": 3,
   "id": "a950e17a-eac5-446d-ad3a-0ab4b7b27810",
   "metadata": {},
   "outputs": [
    {
     "data": {
      "text/plain": [
       "9"
      ]
     },
     "execution_count": 3,
     "metadata": {},
     "output_type": "execute_result"
    }
   ],
   "source": [
    "random.randint(1, 10)"
   ]
  },
  {
   "cell_type": "code",
   "execution_count": 4,
   "id": "3245a435-a268-4a58-bdb9-bf98f4f149b8",
   "metadata": {},
   "outputs": [
    {
     "data": {
      "text/plain": [
       "4"
      ]
     },
     "execution_count": 4,
     "metadata": {},
     "output_type": "execute_result"
    }
   ],
   "source": [
    "random.randint(1, 10)"
   ]
  },
  {
   "cell_type": "code",
   "execution_count": 5,
   "id": "227f0cf1-aa14-4fbf-8e16-8436f43c46a0",
   "metadata": {},
   "outputs": [
    {
     "data": {
      "text/plain": [
       "datetime.datetime"
      ]
     },
     "execution_count": 5,
     "metadata": {},
     "output_type": "execute_result"
    }
   ],
   "source": [
    "import datetime\n",
    "now = datetime.datetime.now()\n",
    "type(now)"
   ]
  },
  {
   "cell_type": "code",
   "execution_count": 6,
   "id": "5ad722cf-cc59-43c0-8b27-9091b437e975",
   "metadata": {},
   "outputs": [
    {
     "name": "stdout",
     "output_type": "stream",
     "text": [
      "2022-10-27 11:59:20.417901\n"
     ]
    }
   ],
   "source": [
    "print(now)"
   ]
  },
  {
   "cell_type": "code",
   "execution_count": 7,
   "id": "77bf33bd-3381-434d-b4d3-1666c0fdf237",
   "metadata": {},
   "outputs": [
    {
     "data": {
      "text/plain": [
       "2022"
      ]
     },
     "execution_count": 7,
     "metadata": {},
     "output_type": "execute_result"
    }
   ],
   "source": [
    "now.year"
   ]
  },
  {
   "cell_type": "code",
   "execution_count": 8,
   "id": "217487cd-b7f5-45bf-bb95-3589153bcd11",
   "metadata": {},
   "outputs": [
    {
     "name": "stdout",
     "output_type": "stream",
     "text": [
      "2022-11-24 11:59:20.417901\n"
     ]
    }
   ],
   "source": [
    "print(now + datetime.timedelta(days = 28))"
   ]
  },
  {
   "cell_type": "code",
   "execution_count": 65,
   "id": "488be260-0d63-4913-bf42-f07670597086",
   "metadata": {},
   "outputs": [],
   "source": [
    "# Inheritance\n",
    "\n",
    "class Animal:\n",
    "    name = \"\" \n",
    "    categories = \"\"\n",
    "    \n",
    "    def __init__(self, name):\n",
    "        self.name = name\n",
    "        \n",
    "    def set_category(self, categories):\n",
    "        self.categories = categories\n",
    "        print(\" Yes! I'm  {name}! {categories}!\".format(name = self.name, categories = self.categories))\n",
    "\n",
    "class Turtel(Animal):\n",
    "    categories = \"Amphibia\"\n",
    "    \n",
    "\n",
    "turtel = Turtel(\"Kachhua\")\n",
    "\n",
    "\n"
   ]
  },
  {
   "cell_type": "code",
   "execution_count": 11,
   "id": "60817412-8fb8-4320-b6c2-cc95d3283625",
   "metadata": {},
   "outputs": [],
   "source": [
    "class Zoo:\n",
    "    def __init__(self):\n",
    "        self.current_animals = {}\n",
    "        \n",
    "    def add_animal(self, animal):\n",
    "        self.current_animals[animals.name] = animal.category\n",
    "        \n",
    "    def total_of_category(self, category):\n",
    "        result = 0\n",
    "        for animal in self.values():\n",
    "            if animal == :\n",
    "                result += 1\n",
    "        return result\n",
    "\n",
    "zoo = Zoo()"
   ]
  },
  {
   "cell_type": "code",
   "execution_count": 28,
   "id": "c2df9382-a379-486e-8eda-c8a92f87e1b5",
   "metadata": {},
   "outputs": [],
   "source": [
    "turtel = Turtel(\"Turtel\")\n"
   ]
  },
  {
   "cell_type": "code",
   "execution_count": null,
   "id": "c5f92376-ca5a-4b54-a7f3-3d1eff3a2996",
   "metadata": {},
   "outputs": [],
   "source": []
  }
 ],
 "metadata": {
  "kernelspec": {
   "display_name": "Python 3 (ipykernel)",
   "language": "python",
   "name": "python3"
  },
  "language_info": {
   "codemirror_mode": {
    "name": "ipython",
    "version": 3
   },
   "file_extension": ".py",
   "mimetype": "text/x-python",
   "name": "python",
   "nbconvert_exporter": "python",
   "pygments_lexer": "ipython3",
   "version": "3.9.12"
  }
 },
 "nbformat": 4,
 "nbformat_minor": 5
}
