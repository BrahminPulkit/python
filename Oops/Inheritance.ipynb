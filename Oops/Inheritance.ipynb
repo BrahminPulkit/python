{
 "cells": [
  {
   "cell_type": "code",
   "execution_count": 3,
   "id": "8317c186-b22a-4e65-a35d-9f0930a162a6",
   "metadata": {},
   "outputs": [],
   "source": [
    "class Fruit:\n",
    "    def __init__(self, color, flavor):\n",
    "        self.color = color\n",
    "        self.flavor = flavor"
   ]
  },
  {
   "cell_type": "code",
   "execution_count": 4,
   "id": "eaba928e-78be-4ef2-b28b-d8db549d017e",
   "metadata": {},
   "outputs": [],
   "source": [
    "class Apple(Fruit):\n",
    "    pass\n",
    "\n",
    "class Grape(Fruit):\n",
    "    pass"
   ]
  },
  {
   "cell_type": "code",
   "execution_count": 5,
   "id": "5fa53bd4-233c-45cd-92cf-f767c71dc6ec",
   "metadata": {},
   "outputs": [
    {
     "name": "stdout",
     "output_type": "stream",
     "text": [
      "Tart\n"
     ]
    }
   ],
   "source": [
    "Pulkit = Apple(\"Green\",\"Tart\")\n",
    "Vishal = Grape(\"Purple\", \"tart\")\n",
    "print(Pulkit.flavor)"
   ]
  },
  {
   "cell_type": "code",
   "execution_count": 6,
   "id": "d3e0903b-528f-48f0-b6cb-ed5c60c83777",
   "metadata": {},
   "outputs": [
    {
     "name": "stdout",
     "output_type": "stream",
     "text": [
      "Purple\n"
     ]
    }
   ],
   "source": [
    "print(Vishal.color)"
   ]
  },
  {
   "cell_type": "code",
   "execution_count": 8,
   "id": "3dccda95-721b-4654-8f90-8222195b6a60",
   "metadata": {},
   "outputs": [
    {
     "name": "stdout",
     "output_type": "stream",
     "text": [
      "Oink! I'm Hamlet! Oink!\n"
     ]
    }
   ],
   "source": [
    "class Animal:\n",
    "    sound = \"\"\n",
    "    def __init__(self, name):\n",
    "        self.name = name\n",
    "    def speak(self):\n",
    "        print(\"{sound} I'm {name}! {sound}\".format(name = self.name, sound = self.sound))\n",
    "        \n",
    "        \n",
    "        \n",
    "class Piglet(Animal):\n",
    "    sound = \"Oink!\"\n",
    "    \n",
    "hamlet = Piglet(\"Hamlet\")\n",
    "hamlet.speak()"
   ]
  },
  {
   "cell_type": "code",
   "execution_count": 9,
   "id": "302f5ae0-a33a-4a11-bcf2-fbf68753417f",
   "metadata": {},
   "outputs": [
    {
     "name": "stdout",
     "output_type": "stream",
     "text": [
      "Mooooo I'm Milkey white! Mooooo\n"
     ]
    }
   ],
   "source": [
    "class cow(Animal):\n",
    "    sound = \"Mooooo\"\n",
    "    \n",
    "    \n",
    "milky = cow(\"Milkey white\")\n",
    "milky.speak()"
   ]
  },
  {
   "cell_type": "code",
   "execution_count": null,
   "id": "0a67b5b9-d2c9-4829-8ece-dfdd283ad6f2",
   "metadata": {},
   "outputs": [],
   "source": []
  },
  {
   "cell_type": "code",
   "execution_count": null,
   "id": "3cfe866d-a117-410c-9580-c062644a0565",
   "metadata": {},
   "outputs": [],
   "source": []
  }
 ],
 "metadata": {
  "kernelspec": {
   "display_name": "Python 3 (ipykernel)",
   "language": "python",
   "name": "python3"
  },
  "language_info": {
   "codemirror_mode": {
    "name": "ipython",
    "version": 3
   },
   "file_extension": ".py",
   "mimetype": "text/x-python",
   "name": "python",
   "nbconvert_exporter": "python",
   "pygments_lexer": "ipython3",
   "version": "3.9.12"
  }
 },
 "nbformat": 4,
 "nbformat_minor": 5
}
