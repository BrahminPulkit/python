{
 "cells": [
  {
   "cell_type": "code",
   "execution_count": 1,
   "id": "d64b23b0-5183-4a4a-a085-c15864de61e9",
   "metadata": {},
   "outputs": [],
   "source": [
    "i = 'Hello world'"
   ]
  },
  {
   "cell_type": "code",
   "execution_count": 2,
   "id": "a5681c99-9811-411b-8891-4bff73a02945",
   "metadata": {},
   "outputs": [
    {
     "name": "stdout",
     "output_type": "stream",
     "text": [
      "Hello world\n"
     ]
    }
   ],
   "source": [
    "print(i)"
   ]
  },
  {
   "cell_type": "code",
   "execution_count": 3,
   "id": "27e5c24d-6c50-4710-a429-176554eef9e9",
   "metadata": {},
   "outputs": [
    {
     "name": "stdout",
     "output_type": "stream",
     "text": [
      "<class 'str'>\n"
     ]
    }
   ],
   "source": [
    "print(type(i))"
   ]
  },
  {
   "cell_type": "code",
   "execution_count": 4,
   "id": "bc0c2908-b321-42c7-af03-4d990738d079",
   "metadata": {},
   "outputs": [],
   "source": [
    "i = 10"
   ]
  },
  {
   "cell_type": "code",
   "execution_count": 5,
   "id": "ca827579-55c3-484e-9cf9-141d4a7fdd3c",
   "metadata": {},
   "outputs": [],
   "source": [
    "j = 20"
   ]
  },
  {
   "cell_type": "code",
   "execution_count": 6,
   "id": "59d69f21-1d7d-46b0-bec3-4cff307b022f",
   "metadata": {},
   "outputs": [
    {
     "name": "stdout",
     "output_type": "stream",
     "text": [
      "30\n"
     ]
    }
   ],
   "source": [
    "print (i+j)"
   ]
  },
  {
   "cell_type": "code",
   "execution_count": null,
   "id": "50474b86-358a-4abe-929c-c437a6f6e606",
   "metadata": {},
   "outputs": [],
   "source": []
  }
 ],
 "metadata": {
  "kernelspec": {
   "display_name": "Python 3 (ipykernel)",
   "language": "python",
   "name": "python3"
  },
  "language_info": {
   "codemirror_mode": {
    "name": "ipython",
    "version": 3
   },
   "file_extension": ".py",
   "mimetype": "text/x-python",
   "name": "python",
   "nbconvert_exporter": "python",
   "pygments_lexer": "ipython3",
   "version": "3.9.12"
  }
 },
 "nbformat": 4,
 "nbformat_minor": 5
}
