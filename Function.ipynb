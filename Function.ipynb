{
 "cells": [
  {
   "cell_type": "code",
   "execution_count": 1,
   "id": "5fcc3e93-79d3-4047-b029-c8267c625230",
   "metadata": {},
   "outputs": [],
   "source": [
    "def luckey_number(name):\n",
    "    number  = len(name) * 3\n",
    "    print(\"Hello \"+ name + \" Your luckey number is \"+ str(number))"
   ]
  },
  {
   "cell_type": "code",
   "execution_count": 2,
   "id": "6dafc397-d209-4358-a190-58d753f282b6",
   "metadata": {},
   "outputs": [
    {
     "name": "stdout",
     "output_type": "stream",
     "text": [
      "Hello Ram Your luckey number is 9\n"
     ]
    }
   ],
   "source": [
    "luckey_number(\"Ram\")"
   ]
  },
  {
   "cell_type": "code",
   "execution_count": 3,
   "id": "d0824d89-6dc9-44ad-972a-70d5145c8638",
   "metadata": {},
   "outputs": [
    {
     "ename": "NameError",
     "evalue": "name 'pulkit' is not defined",
     "output_type": "error",
     "traceback": [
      "\u001b[1;31m---------------------------------------------------------------------------\u001b[0m",
      "\u001b[1;31mNameError\u001b[0m                                 Traceback (most recent call last)",
      "Input \u001b[1;32mIn [3]\u001b[0m, in \u001b[0;36m<cell line: 1>\u001b[1;34m()\u001b[0m\n\u001b[1;32m----> 1\u001b[0m luckey_number(\u001b[43mpulkit\u001b[49m)\n",
      "\u001b[1;31mNameError\u001b[0m: name 'pulkit' is not defined"
     ]
    }
   ],
   "source": [
    "luckey_number(pulkit)"
   ]
  },
  {
   "cell_type": "code",
   "execution_count": 4,
   "id": "b41de15a-68fd-4de8-9d0d-c0a319cc20e6",
   "metadata": {},
   "outputs": [
    {
     "name": "stdout",
     "output_type": "stream",
     "text": [
      "Hello Pulkit Your luckey number is 18\n"
     ]
    }
   ],
   "source": [
    "luckey_number(\"Pulkit\")"
   ]
  },
  {
   "cell_type": "code",
   "execution_count": null,
   "id": "406897b9-7374-42f3-8644-5167b66a251c",
   "metadata": {},
   "outputs": [],
   "source": []
  }
 ],
 "metadata": {
  "kernelspec": {
   "display_name": "Python 3 (ipykernel)",
   "language": "python",
   "name": "python3"
  },
  "language_info": {
   "codemirror_mode": {
    "name": "ipython",
    "version": 3
   },
   "file_extension": ".py",
   "mimetype": "text/x-python",
   "name": "python",
   "nbconvert_exporter": "python",
   "pygments_lexer": "ipython3",
   "version": "3.9.12"
  }
 },
 "nbformat": 4,
 "nbformat_minor": 5
}
