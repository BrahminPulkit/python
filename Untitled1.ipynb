{
 "cells": [
  {
   "cell_type": "code",
   "execution_count": 1,
   "id": "1b65e000-3dc3-444e-a774-e9916117d4fd",
   "metadata": {},
   "outputs": [],
   "source": [
    "name = \"Pulkit\""
   ]
  },
  {
   "cell_type": "code",
   "execution_count": 2,
   "id": "c1403c78-917f-49c0-bdcd-cecd14bbc730",
   "metadata": {},
   "outputs": [],
   "source": [
    "number = len(name)*3"
   ]
  },
  {
   "cell_type": "code",
   "execution_count": 3,
   "id": "fc31aff9-04ea-4b13-803e-2a5375ded344",
   "metadata": {},
   "outputs": [
    {
     "name": "stdout",
     "output_type": "stream",
     "text": [
      "HelloPulkitYour luckey number is 18\n"
     ]
    }
   ],
   "source": [
    "print(\"Hello\"+ name +\"Your luckey number is \"+ str(number))"
   ]
  },
  {
   "cell_type": "code",
   "execution_count": 4,
   "id": "f2960f6f-04f4-42c5-88dc-bb6afb386279",
   "metadata": {},
   "outputs": [],
   "source": [
    "name = \"Ram\""
   ]
  },
  {
   "cell_type": "code",
   "execution_count": 5,
   "id": "899f7af1-73ef-44d7-b18a-de692bbeb7e9",
   "metadata": {},
   "outputs": [],
   "source": [
    "number = len(name) * 6"
   ]
  },
  {
   "cell_type": "code",
   "execution_count": null,
   "id": "45e50269-9e58-4395-a882-4b67721bfa30",
   "metadata": {},
   "outputs": [],
   "source": [
    "print(\"Hello \"+ name + \" Your luckey num \")"
   ]
  }
 ],
 "metadata": {
  "kernelspec": {
   "display_name": "Python 3 (ipykernel)",
   "language": "python",
   "name": "python3"
  },
  "language_info": {
   "codemirror_mode": {
    "name": "ipython",
    "version": 3
   },
   "file_extension": ".py",
   "mimetype": "text/x-python",
   "name": "python",
   "nbconvert_exporter": "python",
   "pygments_lexer": "ipython3",
   "version": "3.9.12"
  }
 },
 "nbformat": 4,
 "nbformat_minor": 5
}
