{
 "cells": [
  {
   "cell_type": "code",
   "execution_count": 1,
   "id": "6d2d76c1-92d9-41f0-a8ca-895e2ec64c4c",
   "metadata": {},
   "outputs": [],
   "source": [
    "def hint_username(username):\n",
    "    if len(username) < 3:\n",
    "        print(\"Invalid user name . Must be at least 3 characters long\")\n",
    "    else:\n",
    "        print(\"Valid username\")\n",
    "\n",
    "\n",
    "        "
   ]
  },
  {
   "cell_type": "code",
   "execution_count": 2,
   "id": "c74e779f-61e6-450c-85ef-1c8f2e5215ea",
   "metadata": {},
   "outputs": [
    {
     "name": "stdout",
     "output_type": "stream",
     "text": [
      "Valid username\n"
     ]
    }
   ],
   "source": [
    "hint_username(\"Ram\")"
   ]
  },
  {
   "cell_type": "code",
   "execution_count": 3,
   "id": "46496676-9ec2-444f-82aa-375a652c6737",
   "metadata": {},
   "outputs": [],
   "source": [
    "def is_even(number):\n",
    "    if number % 2 == 0:\n",
    "        return True \n",
    "    return False\n",
    "\n",
    "# when a return statement is executed , the function exits , so the code that follows doesn't executed."
   ]
  },
  {
   "cell_type": "code",
   "execution_count": 4,
   "id": "1c68cfcb-8e34-4616-a748-088688866548",
   "metadata": {},
   "outputs": [
    {
     "data": {
      "text/plain": [
       "False"
      ]
     },
     "execution_count": 4,
     "metadata": {},
     "output_type": "execute_result"
    }
   ],
   "source": [
    "is_even(3)"
   ]
  },
  {
   "cell_type": "code",
   "execution_count": null,
   "id": "0a5e9392-12e4-43d5-a65a-5655ed53c80a",
   "metadata": {},
   "outputs": [],
   "source": [
    "def is_sum"
   ]
  }
 ],
 "metadata": {
  "kernelspec": {
   "display_name": "Python 3.9.12 ('base')",
   "language": "python",
   "name": "python3"
  },
  "language_info": {
   "codemirror_mode": {
    "name": "ipython",
    "version": 3
   },
   "file_extension": ".py",
   "mimetype": "text/x-python",
   "name": "python",
   "nbconvert_exporter": "python",
   "pygments_lexer": "ipython3",
   "version": "3.9.12"
  },
  "vscode": {
   "interpreter": {
    "hash": "eb1553ab1c3584289d12ef0e9ef38d117fc2073501c5fc5275d71a1c9b27bfbe"
   }
  }
 },
 "nbformat": 4,
 "nbformat_minor": 5
}
