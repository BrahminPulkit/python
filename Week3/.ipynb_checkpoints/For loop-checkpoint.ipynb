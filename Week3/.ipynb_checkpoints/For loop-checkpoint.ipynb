{
 "cells": [
  {
   "cell_type": "code",
   "execution_count": 2,
   "id": "cdc33e29-a32c-4eb7-a392-8dd8b43acc36",
   "metadata": {},
   "outputs": [],
   "source": [
    "# In python  , and a lot of other programming languages , a range of number will start with the value 0n by default\n",
    "# use for loop when there's a sequence of elements that you want to irerate \n",
    "# use while loops when you want to repeat an action a condition changes."
   ]
  },
  {
   "cell_type": "code",
   "execution_count": 4,
   "id": "dde9c9dc-d2c1-4279-a5df-80b12cd7d1c6",
   "metadata": {},
   "outputs": [
    {
     "name": "stdout",
     "output_type": "stream",
     "text": [
      "0\n",
      "1\n",
      "2\n",
      "3\n",
      "4\n"
     ]
    }
   ],
   "source": [
    "for x in range (5):\n",
    "    print(x)"
   ]
  },
  {
   "cell_type": "code",
   "execution_count": 5,
   "id": "952cf5c2-ce2b-43f2-a2a3-d71dec78ad20",
   "metadata": {},
   "outputs": [
    {
     "name": "stdout",
     "output_type": "stream",
     "text": [
      "Hi Pulkit\n",
      "Hi Arti baby\n",
      "Hi Anshik\n"
     ]
    }
   ],
   "source": [
    "friends = ['Pulkit', 'Arti baby', 'Anshik']\n",
    "for friend in friends:\n",
    "    print(\"Hi \" + friend)"
   ]
  },
  {
   "cell_type": "code",
   "execution_count": 7,
   "id": "ce367b02-d1e3-4414-a020-572f14b6f261",
   "metadata": {},
   "outputs": [
    {
     "name": "stdout",
     "output_type": "stream",
     "text": [
      "Total sum 236 - Avarage:47.2\n"
     ]
    }
   ],
   "source": [
    "values =  [23, 52 ,59, 37 ,65]\n",
    "sum = 0\n",
    "length = 0\n",
    "for value in values:\n",
    "    sum += value\n",
    "    length += 1\n",
    "    \n",
    "print (\"Total sum \" + str(sum) + \" - Avarage:\" + str (sum / length))"
   ]
  },
  {
   "cell_type": "code",
   "execution_count": null,
   "id": "2b4bdc0d-3c5f-4248-88e0-d5d59693ee96",
   "metadata": {},
   "outputs": [],
   "source": []
  }
 ],
 "metadata": {
  "kernelspec": {
   "display_name": "Python 3 (ipykernel)",
   "language": "python",
   "name": "python3"
  },
  "language_info": {
   "codemirror_mode": {
    "name": "ipython",
    "version": 3
   },
   "file_extension": ".py",
   "mimetype": "text/x-python",
   "name": "python",
   "nbconvert_exporter": "python",
   "pygments_lexer": "ipython3",
   "version": "3.9.12"
  }
 },
 "nbformat": 4,
 "nbformat_minor": 5
}
