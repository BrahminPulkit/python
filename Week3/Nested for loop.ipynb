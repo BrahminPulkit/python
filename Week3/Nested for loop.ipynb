{
 "cells": [
  {
   "cell_type": "code",
   "execution_count": 3,
   "id": "9b972d33-2e4b-41f6-9c67-cad40243c1bd",
   "metadata": {},
   "outputs": [
    {
     "name": "stdout",
     "output_type": "stream",
     "text": [
      "[0|0] [0|1] [0|2] [0|3] [0|4] [0|5] [0|6] \n",
      "[1|1] [1|2] [1|3] [1|4] [1|5] [1|6] \n",
      "[2|2] [2|3] [2|4] [2|5] [2|6] \n",
      "[3|3] [3|4] [3|5] [3|6] \n",
      "[4|4] [4|5] [4|6] \n",
      "[5|5] [5|6] \n",
      "[6|6] \n"
     ]
    }
   ],
   "source": [
    "for left in range(7):\n",
    "    for right in range(left , 7):\n",
    "        print(\"[\" +str(left) + \"|\" + str(right) + \"]\", end = \" \")\n",
    "    print()"
   ]
  },
  {
   "cell_type": "code",
   "execution_count": 4,
   "id": "208ad29a-a2ca-4635-892c-efa7fc78744c",
   "metadata": {},
   "outputs": [
    {
     "name": "stdout",
     "output_type": "stream",
     "text": [
      "dragons vs wolves\n",
      "dragons vs Pandas\n",
      "dragons vs unicorns\n",
      "wolves vs dragons\n",
      "wolves vs Pandas\n",
      "wolves vs unicorns\n",
      "Pandas vs dragons\n",
      "Pandas vs wolves\n",
      "Pandas vs unicorns\n",
      "unicorns vs dragons\n",
      "unicorns vs wolves\n",
      "unicorns vs Pandas\n"
     ]
    }
   ],
   "source": [
    "teams = ['dragons' ,'wolves', 'Pandas', 'unicorns']\n",
    "for home_team in teams:\n",
    "    for away_team in teams:\n",
    "        if home_team != away_team:\n",
    "            print(home_team + \" vs \" + away_team)"
   ]
  },
  {
   "cell_type": "code",
   "execution_count": 11,
   "id": "24aee07c-b26c-484f-836e-5ca83a3adc87",
   "metadata": {},
   "outputs": [],
   "source": [
    "def greet_friends(friends):\n",
    "    for friend in friends:\n",
    "        print(\"Hi \"+ friend)"
   ]
  },
  {
   "cell_type": "code",
   "execution_count": 13,
   "id": "7df4c4d9-91d1-4fcf-9e3b-0eafffab3366",
   "metadata": {},
   "outputs": [
    {
     "name": "stdout",
     "output_type": "stream",
     "text": [
      "Hi Anshik\n",
      "Hi Suresh\n",
      "Hi Aniket\n",
      "Hi Arti Bebo\n"
     ]
    }
   ],
   "source": [
    "greet_friends(['Anshik' ,'Suresh', 'Aniket', 'Arti Bebo'])"
   ]
  },
  {
   "cell_type": "code",
   "execution_count": 15,
   "id": "d3603110-4f1a-4f0c-a1d9-caf3d24519e9",
   "metadata": {},
   "outputs": [
    {
     "name": "stdout",
     "output_type": "stream",
     "text": [
      "Hi B\n",
      "Hi a\n",
      "Hi b\n",
      "Hi y\n"
     ]
    }
   ],
   "source": [
    "greet_friends(\"Baby\")\n",
    "# This happens because Strings are ireable ,   for loop will go each letter of the string "
   ]
  },
  {
   "cell_type": "code",
   "execution_count": null,
   "id": "d0a0cdb7-9dbd-45be-9646-38dc6d26452e",
   "metadata": {},
   "outputs": [],
   "source": []
  }
 ],
 "metadata": {
  "kernelspec": {
   "display_name": "Python 3 (ipykernel)",
   "language": "python",
   "name": "python3"
  },
  "language_info": {
   "codemirror_mode": {
    "name": "ipython",
    "version": 3
   },
   "file_extension": ".py",
   "mimetype": "text/x-python",
   "name": "python",
   "nbconvert_exporter": "python",
   "pygments_lexer": "ipython3",
   "version": "3.9.12"
  }
 },
 "nbformat": 4,
 "nbformat_minor": 5
}
