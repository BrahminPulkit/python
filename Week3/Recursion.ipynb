{
 "cells": [
  {
   "cell_type": "code",
   "execution_count": 3,
   "id": "e5017164-257d-460b-8d91-bb11e4aec842",
   "metadata": {},
   "outputs": [],
   "source": [
    "# Recursion - The repreated application of the same procedure to a smaller problem\n",
    "# Recursion lets us tackle complex problems by reducing the problem to a similer one \n",
    "# in programming , recursion is a way of doing a repetitive task by having a funcyion call itself"
   ]
  },
  {
   "cell_type": "code",
   "execution_count": 4,
   "id": "0c502eab-e18a-4e03-b31b-05de424191c1",
   "metadata": {},
   "outputs": [],
   "source": [
    "def factorial(n):\n",
    "    if n < 2:\n",
    "        return 1\n",
    "    return n * factorial(n - 1)"
   ]
  },
  {
   "cell_type": "code",
   "execution_count": 1,
   "id": "64ff8f89-934c-4f0e-b0e7-422c02ea0776",
   "metadata": {},
   "outputs": [],
   "source": [
    "def recursive_function(parameters):\n",
    "    if base_case_condition(parameters):\n",
    "        return base_case_value\n",
    "    recursive_function(modified_parameters)"
   ]
  },
  {
   "cell_type": "code",
   "execution_count": 2,
   "id": "e7f2bc36-300b-46d4-adf6-bba2bb2f76e7",
   "metadata": {},
   "outputs": [
    {
     "name": "stdout",
     "output_type": "stream",
     "text": [
      "45 1\n"
     ]
    }
   ],
   "source": [
    "#Loops warm Up\n",
    "\n",
    "\n",
    "x = 1\n",
    "sum = 0\n",
    "while x < 10:\n",
    "    sum += x\n",
    "    x += 1\n",
    "    \n",
    "    \n",
    "product = 1\n",
    "while x < 10:\n",
    "    product  = product * x\n",
    "    x += 1\n",
    "\n",
    "    \n",
    "print(sum , product)"
   ]
  },
  {
   "cell_type": "code",
   "execution_count": 3,
   "id": "09c291cb-ade6-463b-96ef-dbd52268d318",
   "metadata": {},
   "outputs": [
    {
     "name": "stdout",
     "output_type": "stream",
     "text": [
      "0\n",
      "1\n",
      "2\n",
      "3\n",
      "4\n"
     ]
    }
   ],
   "source": [
    "for x in range(5):\n",
    "    print(x)"
   ]
  },
  {
   "cell_type": "code",
   "execution_count": 5,
   "id": "059c6025-590f-4613-a8d5-2204984e9084",
   "metadata": {},
   "outputs": [
    {
     "name": "stdout",
     "output_type": "stream",
     "text": [
      "Factorial called with 4\n",
      "Factorial called with 3\n",
      "Factorial called with 2\n",
      "Factorial called with 1\n",
      "returning 1\n",
      "Returning 2 for factorial of 2\n",
      "Returning 6 for factorial of 3\n",
      "Returning 24 for factorial of 4\n"
     ]
    },
    {
     "data": {
      "text/plain": [
       "24"
      ]
     },
     "execution_count": 5,
     "metadata": {},
     "output_type": "execute_result"
    }
   ],
   "source": [
    "def factorial(n):\n",
    "    print(\"Factorial called with \"+ str(n))\n",
    "    if n < 2:\n",
    "        print (\"returning 1\")\n",
    "        return 1\n",
    "    result = n * factorial(n-1)\n",
    "    print(\"Returning \"+ str(result) + \" for factorial of \" + str(n))\n",
    "    return result\n",
    "\n",
    "factorial(4)"
   ]
  },
  {
   "cell_type": "code",
   "execution_count": null,
   "id": "dd09f516-e60e-4fc2-ae13-14275d359dbe",
   "metadata": {},
   "outputs": [],
   "source": []
  }
 ],
 "metadata": {
  "kernelspec": {
   "display_name": "Python 3 (ipykernel)",
   "language": "python",
   "name": "python3"
  },
  "language_info": {
   "codemirror_mode": {
    "name": "ipython",
    "version": 3
   },
   "file_extension": ".py",
   "mimetype": "text/x-python",
   "name": "python",
   "nbconvert_exporter": "python",
   "pygments_lexer": "ipython3",
   "version": "3.9.12"
  }
 },
 "nbformat": 4,
 "nbformat_minor": 5
}
