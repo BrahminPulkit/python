{
 "cells": [
  {
   "cell_type": "code",
   "execution_count": 1,
   "id": "1e78ea87-1948-4a3c-a632-74dd8200fb4e",
   "metadata": {},
   "outputs": [],
   "source": [
    "# while loops Instruct your computer ton continoussly execute your code based on the value of a condition"
   ]
  },
  {
   "cell_type": "code",
   "execution_count": 9,
   "id": "ce79b8f7-7819-4b45-a052-ca7a61b348e5",
   "metadata": {},
   "outputs": [
    {
     "name": "stdout",
     "output_type": "stream",
     "text": [
      "not there yet, x=0\n",
      "not there yet, x=1\n",
      "not there yet, x=2\n",
      "not there yet, x=3\n",
      "not there yet, x=4\n",
      "x = 5\n"
     ]
    }
   ],
   "source": [
    "x = 0\n",
    "while x < 5:\n",
    "    print(\"not there yet, x=\" + str(x))\n",
    "    x = x + 1\n",
    "print(\"x = \"+ str(x))"
   ]
  },
  {
   "cell_type": "code",
   "execution_count": 10,
   "id": "984ae4a6-90f7-45a5-903c-9a6898ff68c3",
   "metadata": {},
   "outputs": [],
   "source": [
    "def attempts(n):\n",
    "    x = 1\n",
    "    while x <= n:\n",
    "        print(\"Attempt \" + str(x))\n",
    "        x += 1\n",
    "    print (\"Done\")"
   ]
  },
  {
   "cell_type": "code",
   "execution_count": 11,
   "id": "52f28f60-fc86-47c2-87af-14551e2f5b13",
   "metadata": {},
   "outputs": [
    {
     "name": "stdout",
     "output_type": "stream",
     "text": [
      "Attempt 1\n",
      "Attempt 2\n",
      "Attempt 3\n",
      "Attempt 4\n",
      "Attempt 5\n",
      "Done\n"
     ]
    }
   ],
   "source": [
    "attempts(5)"
   ]
  },
  {
   "cell_type": "code",
   "execution_count": 13,
   "id": "007ce787-0330-4543-95ab-fb55476b2f22",
   "metadata": {},
   "outputs": [],
   "source": [
    "#username  = get_username()\n",
    "#while not valid_username(username):\n",
    " #   print(\"invalid username \")\n",
    "  #  username = get_username()"
   ]
  },
  {
   "cell_type": "code",
   "execution_count": null,
   "id": "d942c44b-16b4-4f76-9f4c-9c12d16d8ebf",
   "metadata": {},
   "outputs": [],
   "source": []
  },
  {
   "cell_type": "code",
   "execution_count": 15,
   "id": "9d2d0234-ca83-4229-a0ec-8bf3e63a35b4",
   "metadata": {},
   "outputs": [],
   "source": [
    "x = 1\n",
    "sum = 0\n",
    "while x < 10:\n",
    "    sum += x\n",
    "    x += 1\n",
    "    \n",
    "    \n",
    "product  = 1\n",
    "while x < 10:\n",
    "    product = product*x\n",
    "    x = x+1\n"
   ]
  },
  {
   "cell_type": "code",
   "execution_count": 16,
   "id": "3770e13c-c313-4693-9a8b-b626f3f171e2",
   "metadata": {},
   "outputs": [
    {
     "name": "stdout",
     "output_type": "stream",
     "text": [
      "45 1\n"
     ]
    }
   ],
   "source": [
    "print(sum , product)"
   ]
  },
  {
   "cell_type": "code",
   "execution_count": null,
   "id": "26d7d12f-5787-450c-9348-309b8b95f313",
   "metadata": {},
   "outputs": [],
   "source": []
  }
 ],
 "metadata": {
  "kernelspec": {
   "display_name": "Python 3 (ipykernel)",
   "language": "python",
   "name": "python3"
  },
  "language_info": {
   "codemirror_mode": {
    "name": "ipython",
    "version": 3
   },
   "file_extension": ".py",
   "mimetype": "text/x-python",
   "name": "python",
   "nbconvert_exporter": "python",
   "pygments_lexer": "ipython3",
   "version": "3.9.12"
  }
 },
 "nbformat": 4,
 "nbformat_minor": 5
}
