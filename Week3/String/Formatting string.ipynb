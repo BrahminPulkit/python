{
 "cells": [
  {
   "cell_type": "code",
   "execution_count": 2,
   "id": "28d03bfe-738b-48ab-8d4b-76331dc7f232",
   "metadata": {},
   "outputs": [
    {
     "name": "stdout",
     "output_type": "stream",
     "text": [
      "Hello Ram , your luckey number is 9\n"
     ]
    }
   ],
   "source": [
    "name = \"Ram\"\n",
    "number = len(name)*3\n",
    "print(\"Hello {} , your luckey number is {}\".format(name , number))"
   ]
  },
  {
   "cell_type": "code",
   "execution_count": 3,
   "id": "fae1abcc-269b-438f-9b16-69263f789088",
   "metadata": {},
   "outputs": [
    {
     "name": "stdout",
     "output_type": "stream",
     "text": [
      "your luckey number is 9 , Ram.\n"
     ]
    }
   ],
   "source": [
    "name = \"Ram\"\n",
    "number = len(name)*3\n",
    "print(\"your luckey number is {number} , {name}.\".format(name = name , number = len(name)*3))"
   ]
  },
  {
   "cell_type": "code",
   "execution_count": 4,
   "id": "7fa6d832-5ee6-4c40-a9b2-f9d49be213c1",
   "metadata": {},
   "outputs": [
    {
     "name": "stdout",
     "output_type": "stream",
     "text": [
      "7.5 8.175\n"
     ]
    }
   ],
   "source": [
    "price = 7.5\n",
    "with_tax = price*1.09\n",
    "print(price, with_tax)"
   ]
  },
  {
   "cell_type": "code",
   "execution_count": 6,
   "id": "d9f9f99d-de87-4f15-8b60-e0aee47424a1",
   "metadata": {},
   "outputs": [
    {
     "name": "stdout",
     "output_type": "stream",
     "text": [
      "Base price $ 7.500000. with Tax: $(:2f)\n"
     ]
    }
   ],
   "source": [
    "price = 7.5\n",
    "with_tax = price*1.09\n",
    "print(\"Base price ${: 2f}. with Tax: $(:2f)\".format(price, with_tax))"
   ]
  },
  {
   "cell_type": "code",
   "execution_count": 12,
   "id": "4389370b-d9b1-4ab3-ba05-193875ef9d4d",
   "metadata": {},
   "outputs": [
    {
     "name": "stdout",
     "output_type": "stream",
     "text": [
      "  0 F | -17.78 c\n",
      " 10 F | -12.22 c\n",
      " 20 F | -6.67 c\n",
      " 30 F | -1.11 c\n",
      " 40 F | 4.44 c\n",
      " 50 F | 10.00 c\n",
      " 60 F | 15.56 c\n",
      " 70 F | 21.11 c\n",
      " 80 F | 26.67 c\n",
      " 90 F | 32.22 c\n",
      "100 F | 37.78 c\n"
     ]
    }
   ],
   "source": [
    "def to_celsius(x):\n",
    "    return (x - 32)*5/9\n",
    "\n",
    "for x in range(0 , 101 , 10):\n",
    "    print(\"{:>3} F | {:>.2f} c\".format(x, to_celsius(x)))\n",
    "    \n",
    "    # in this two expression we're using the greate than operator to align text to the right so that \n",
    "    #the output is neatly aligned."
   ]
  },
  {
   "cell_type": "code",
   "execution_count": 17,
   "id": "82d7d83d-bb14-4799-9ed9-e5db47d21275",
   "metadata": {},
   "outputs": [
    {
     "name": "stdout",
     "output_type": "stream",
     "text": [
      "  0 F | -17.78 c\n",
      " 10 F | -12.22 c\n",
      " 20 F |  -6.67 c\n",
      " 30 F |  -1.11 c\n",
      " 40 F |   4.44 c\n",
      " 50 F |  10.00 c\n",
      " 60 F |  15.56 c\n",
      " 70 F |  21.11 c\n",
      " 80 F |  26.67 c\n",
      " 90 F |  32.22 c\n",
      "100 F |  37.78 c\n"
     ]
    }
   ],
   "source": [
    "def to_celsius(x):\n",
    "    return (x - 32)*5/9\n",
    "\n",
    "for x in range(0 , 101 , 10):\n",
    "    print(\"{:>3} F | {:>6.2f} c\".format(x, to_celsius(x)))"
   ]
  },
  {
   "cell_type": "markdown",
   "id": "1425f1e6-6988-49aa-b5a7-aeb12b38544d",
   "metadata": {},
   "source": []
  },
  {
   "cell_type": "code",
   "execution_count": null,
   "id": "5ee9e77b-42d0-4ff5-b4b8-422166bb45e3",
   "metadata": {},
   "outputs": [],
   "source": []
  },
  {
   "cell_type": "code",
   "execution_count": 1,
   "id": "e359cbe3-ee10-42fb-8824-cfd326908fed",
   "metadata": {},
   "outputs": [
    {
     "name": "stdout",
     "output_type": "stream",
     "text": [
      "This is an example using the Format() method on a string  \n"
     ]
    }
   ],
   "source": [
    "# base string with {} placeholder.format(variable)\n",
    "\n",
    "example = \"Format() method\"\n",
    "formated_string = \"This is an example using the {} on a string  \".format(example)\n",
    "print(formated_string)"
   ]
  },
  {
   "cell_type": "code",
   "execution_count": 2,
   "id": "77a35811-7d32-444f-aee9-dccf9825c053",
   "metadata": {},
   "outputs": [
    {
     "name": "stdout",
     "output_type": "stream",
     "text": [
      "apple carrot banana\n"
     ]
    }
   ],
   "source": [
    "#\"{0} {1}\".format(first , second)\n",
    "first = \"apple\"\n",
    "second = \"banana\"\n",
    "third = \"carrot\"\n",
    "\n",
    "formatted_string = \"{0} {2} {1}\".format(first , second, third)\n",
    "print(formatted_string)"
   ]
  },
  {
   "cell_type": "code",
   "execution_count": null,
   "id": "f58b1b15-3a63-4e5e-a3b3-592e15c54b15",
   "metadata": {},
   "outputs": [],
   "source": []
  }
 ],
 "metadata": {
  "kernelspec": {
   "display_name": "Python 3 (ipykernel)",
   "language": "python",
   "name": "python3"
  },
  "language_info": {
   "codemirror_mode": {
    "name": "ipython",
    "version": 3
   },
   "file_extension": ".py",
   "mimetype": "text/x-python",
   "name": "python",
   "nbconvert_exporter": "python",
   "pygments_lexer": "ipython3",
   "version": "3.9.12"
  }
 },
 "nbformat": 4,
 "nbformat_minor": 5
}
