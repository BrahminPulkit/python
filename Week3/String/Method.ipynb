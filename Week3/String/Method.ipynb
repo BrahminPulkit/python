{
 "cells": [
  {
   "cell_type": "code",
   "execution_count": 1,
   "id": "b66f0246-4ba5-47aa-a299-dc3dc00e22bc",
   "metadata": {},
   "outputs": [],
   "source": [
    "# Method = A function associated with a specific class"
   ]
  },
  {
   "cell_type": "code",
   "execution_count": null,
   "id": "6a999ff0-ea11-4e59-b20d-fe13dcc8794e",
   "metadata": {},
   "outputs": [],
   "source": [
    "def replace_domain(email, old_domain, new_domain):\n",
    "    if \"@\" + old_domain in emails:\n",
    "        index = email.index(\"@\" + old_domain)\n",
    "        new_ email = email[:index] + \"@\" + new_domain\n",
    "        return new_email\n",
    "    return email"
   ]
  },
  {
   "cell_type": "markdown",
   "id": "3eb93a3b-540f-4873-9152-e138994b680c",
   "metadata": {},
   "source": [
    " "
   ]
  },
  {
   "cell_type": "code",
   "execution_count": 2,
   "id": "ac4e7998-cef8-4c70-a1ee-1dc36ff985f0",
   "metadata": {},
   "outputs": [
    {
     "data": {
      "text/plain": [
       "'MOUNTAIN'"
      ]
     },
     "execution_count": 2,
     "metadata": {},
     "output_type": "execute_result"
    }
   ],
   "source": [
    "\"mountain\".upper()"
   ]
  },
  {
   "cell_type": "code",
   "execution_count": 3,
   "id": "9572d322-c9cf-49ad-b410-9e3ad226b55a",
   "metadata": {},
   "outputs": [
    {
     "data": {
      "text/plain": [
       "'mountain'"
      ]
     },
     "execution_count": 3,
     "metadata": {},
     "output_type": "execute_result"
    }
   ],
   "source": [
    "\"mountain\".lower()"
   ]
  },
  {
   "cell_type": "code",
   "execution_count": 4,
   "id": "ae1411ff-87cd-4a90-84b1-3fca88854afc",
   "metadata": {},
   "outputs": [
    {
     "name": "stdout",
     "output_type": "stream",
     "text": [
      "User said yes \n"
     ]
    }
   ],
   "source": [
    "answer = \"Yes\"\n",
    "if answer.lower() == \"yes\":\n",
    "    print(\"User said yes \")"
   ]
  },
  {
   "cell_type": "code",
   "execution_count": 6,
   "id": "23cd1bb3-545c-499a-a4d8-27770b95f440",
   "metadata": {},
   "outputs": [
    {
     "data": {
      "text/plain": [
       "'yes'"
      ]
     },
     "execution_count": 6,
     "metadata": {},
     "output_type": "execute_result"
    }
   ],
   "source": [
    "\"yes \".strip()\n",
    "\n",
    "# strip() = that dosen't just removes space , it also removes tabes and new line charactors."
   ]
  },
  {
   "cell_type": "code",
   "execution_count": 7,
   "id": "3a4c976d-d10b-4162-901c-616f7290bff5",
   "metadata": {},
   "outputs": [
    {
     "data": {
      "text/plain": [
       "'yes'"
      ]
     },
     "execution_count": 7,
     "metadata": {},
     "output_type": "execute_result"
    }
   ],
   "source": [
    "\"yes\".lstrip()"
   ]
  },
  {
   "cell_type": "code",
   "execution_count": 8,
   "id": "2b1d5ed8-d10f-46e8-a4b0-ca80e02c407a",
   "metadata": {},
   "outputs": [
    {
     "data": {
      "text/plain": [
       "'yes'"
      ]
     },
     "execution_count": 8,
     "metadata": {},
     "output_type": "execute_result"
    }
   ],
   "source": [
    "\"yes\".rstrip()"
   ]
  },
  {
   "cell_type": "code",
   "execution_count": 9,
   "id": "fc69806d-19f3-4e17-b5d9-e73825b2b512",
   "metadata": {},
   "outputs": [
    {
     "data": {
      "text/plain": [
       "4"
      ]
     },
     "execution_count": 9,
     "metadata": {},
     "output_type": "execute_result"
    }
   ],
   "source": [
    "\"The number of time e occurs in this string is 4\".count(\"e\")"
   ]
  },
  {
   "cell_type": "code",
   "execution_count": 12,
   "id": "5a907d73-1cb9-4e32-a4b7-f27ef9c4c941",
   "metadata": {},
   "outputs": [
    {
     "data": {
      "text/plain": [
       "False"
      ]
     },
     "execution_count": 12,
     "metadata": {},
     "output_type": "execute_result"
    }
   ],
   "source": [
    "# the method isnumeric return wheter the string's made up of just numbers.\n",
    "\n",
    "\"forest\".isnumeric()"
   ]
  },
  {
   "cell_type": "code",
   "execution_count": 13,
   "id": "388f6421-a3db-4c29-9e7a-7d1275e37cd3",
   "metadata": {},
   "outputs": [
    {
     "data": {
      "text/plain": [
       "True"
      ]
     },
     "execution_count": 13,
     "metadata": {},
     "output_type": "execute_result"
    }
   ],
   "source": [
    "\"1234\".isnumeric()"
   ]
  },
  {
   "cell_type": "code",
   "execution_count": 14,
   "id": "e06d283c-af28-450b-80ff-45fa52b4b067",
   "metadata": {},
   "outputs": [
    {
     "data": {
      "text/plain": [
       "66666"
      ]
     },
     "execution_count": 14,
     "metadata": {},
     "output_type": "execute_result"
    }
   ],
   "source": [
    "int(\"12345\") + int(\"54321\")"
   ]
  },
  {
   "cell_type": "code",
   "execution_count": 16,
   "id": "c7be19fe-29ee-47b2-8957-cc08f839bba0",
   "metadata": {},
   "outputs": [
    {
     "data": {
      "text/plain": [
       "'This is phrase joined by spaces'"
      ]
     },
     "execution_count": 16,
     "metadata": {},
     "output_type": "execute_result"
    }
   ],
   "source": [
    "\" \".join([\"This\", \"is\" , \"phrase\", \"joined\", \"by\" , \"spaces\"])"
   ]
  },
  {
   "cell_type": "code",
   "execution_count": 18,
   "id": "c7bbe4f7-3928-47cb-86b6-e1169cbd7452",
   "metadata": {},
   "outputs": [
    {
     "data": {
      "text/plain": [
       "'This....is....phrase....joined'"
      ]
     },
     "execution_count": 18,
     "metadata": {},
     "output_type": "execute_result"
    }
   ],
   "source": [
    "\"....\".join([\"This\", \"is\" , \"phrase\", \"joined\"])"
   ]
  },
  {
   "cell_type": "code",
   "execution_count": 20,
   "id": "4d0f8fa3-c65b-4a30-8bf5-eeae1d25f1c3",
   "metadata": {},
   "outputs": [
    {
     "data": {
      "text/plain": [
       "['This', 'is', 'another', 'example']"
      ]
     },
     "execution_count": 20,
     "metadata": {},
     "output_type": "execute_result"
    }
   ],
   "source": [
    "# the split method returns a list of all word in the initial string and automatoically splits by whitespace\n",
    "\"This is another example \".split()"
   ]
  },
  {
   "cell_type": "code",
   "execution_count": null,
   "id": "5d8f4e3a-5b6b-4023-84a3-553080a178a4",
   "metadata": {},
   "outputs": [],
   "source": []
  }
 ],
 "metadata": {
  "kernelspec": {
   "display_name": "Python 3 (ipykernel)",
   "language": "python",
   "name": "python3"
  },
  "language_info": {
   "codemirror_mode": {
    "name": "ipython",
    "version": 3
   },
   "file_extension": ".py",
   "mimetype": "text/x-python",
   "name": "python",
   "nbconvert_exporter": "python",
   "pygments_lexer": "ipython3",
   "version": "3.9.12"
  }
 },
 "nbformat": 4,
 "nbformat_minor": 5
}
