{
 "cells": [
  {
   "cell_type": "code",
   "execution_count": 1,
   "id": "5ad64772-f217-47c1-99a2-2cce29f2c368",
   "metadata": {},
   "outputs": [
    {
     "ename": "SyntaxError",
     "evalue": "EOL while scanning string literal (1975933565.py, line 3)",
     "output_type": "error",
     "traceback": [
      "\u001b[1;36m  Input \u001b[1;32mIn [1]\u001b[1;36m\u001b[0m\n\u001b[1;33m    place = \"Cambridge'\u001b[0m\n\u001b[1;37m                          ^\u001b[0m\n\u001b[1;31mSyntaxError\u001b[0m\u001b[1;31m:\u001b[0m EOL while scanning string literal\n"
     ]
    }
   ],
   "source": [
    "name = \"Pulkit\"\n",
    "color = 'gold'\n",
    "place = \"Cambridge'   "
   ]
  },
  {
   "cell_type": "code",
   "execution_count": 9,
   "id": "b9f3cd83-eaf7-49c6-94e5-87abadcea5f9",
   "metadata": {},
   "outputs": [
    {
     "name": "stdout",
     "output_type": "stream",
     "text": [
      " Name Pulkit favourate color gold\n"
     ]
    }
   ],
   "source": [
    "pet = \"\" # empty string\n",
    "name = \"Pulkit\"\n",
    "color = 'gold'\n",
    "print (\" Name \" + name +  \" favourate color \" + color)"
   ]
  },
  {
   "cell_type": "code",
   "execution_count": 12,
   "id": "4076f983-9016-462d-afbd-d486ed8fda17",
   "metadata": {},
   "outputs": [
    {
     "data": {
      "text/plain": [
       "3"
      ]
     },
     "execution_count": 12,
     "metadata": {},
     "output_type": "execute_result"
    }
   ],
   "source": [
    "len(\"pet\") #it tells how many number of charector contaians a string "
   ]
  },
  {
   "cell_type": "code",
   "execution_count": 14,
   "id": "33e7c67d-4403-498a-bf73-9cb95b03a790",
   "metadata": {},
   "outputs": [
    {
     "name": "stdout",
     "output_type": "stream",
     "text": [
      "u\n",
      "P\n"
     ]
    }
   ],
   "source": [
    "# String Index\n",
    "name =  \"Pulkit\"\n",
    "print(name[1])\n",
    "print(name[0])"
   ]
  },
  {
   "cell_type": "code",
   "execution_count": 15,
   "id": "d7ced29a-40de-4fc4-94ca-5d03ab32578e",
   "metadata": {},
   "outputs": [
    {
     "name": "stdout",
     "output_type": "stream",
     "text": [
      "s\n"
     ]
    }
   ],
   "source": [
    "# negative Indexes\n",
    "\n",
    "test = \"Random string with a lot of characters\"\n",
    "print(test[-1])"
   ]
  },
  {
   "cell_type": "code",
   "execution_count": 17,
   "id": "f24599f4-86bf-41b5-affd-5d4af19aac49",
   "metadata": {},
   "outputs": [
    {
     "data": {
      "text/plain": [
       "'ran'"
      ]
     },
     "execution_count": 17,
     "metadata": {},
     "output_type": "execute_result"
    }
   ],
   "source": [
    "# Slice = the partion of a string that can contain more than one charactor;also some time called a substring\n",
    "\n",
    "color = \"Orange\"\n",
    "color[1:4]"
   ]
  },
  {
   "cell_type": "code",
   "execution_count": 20,
   "id": "dd5dd19d-510c-4692-a48d-7163fcaca846",
   "metadata": {},
   "outputs": [
    {
     "name": "stdout",
     "output_type": "stream",
     "text": [
      "Pine\n",
      "apple\n"
     ]
    }
   ],
   "source": [
    "# slice Index\n",
    "fruit = \"Pineapple\"\n",
    "print(fruit[:4])\n",
    "print(fruit[4:])"
   ]
  },
  {
   "cell_type": "code",
   "execution_count": null,
   "id": "112e3d03-fd8a-43ff-a278-58db0947ff9c",
   "metadata": {},
   "outputs": [],
   "source": []
  }
 ],
 "metadata": {
  "kernelspec": {
   "display_name": "Python 3 (ipykernel)",
   "language": "python",
   "name": "python3"
  },
  "language_info": {
   "codemirror_mode": {
    "name": "ipython",
    "version": 3
   },
   "file_extension": ".py",
   "mimetype": "text/x-python",
   "name": "python",
   "nbconvert_exporter": "python",
   "pygments_lexer": "ipython3",
   "version": "3.9.12"
  }
 },
 "nbformat": 4,
 "nbformat_minor": 5
}
